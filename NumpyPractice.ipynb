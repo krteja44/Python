{
  "nbformat": 4,
  "nbformat_minor": 0,
  "metadata": {
    "colab": {
      "name": "NumPy Practice.ipynb",
      "provenance": [],
      "collapsed_sections": [],
      "toc_visible": true
    },
    "kernelspec": {
      "name": "python3",
      "display_name": "Python 3"
    }
  },
  "cells": [
    {
      "cell_type": "markdown",
      "metadata": {
        "id": "gNoRSwVuO86O",
        "colab_type": "text"
      },
      "source": [
        "NumPy’s main object is the homogeneous multidimensional array. It is a table of elements (usually numbers), all of the same type, indexed by a tuple of positive integers. In NumPy dimensions are called axes."
      ]
    },
    {
      "cell_type": "markdown",
      "metadata": {
        "id": "ErBwhonZQf1t",
        "colab_type": "text"
      },
      "source": [
        "For example, the coordinates of a point in 3D space [1, 2, 1] has one axis. That axis has 3 elements in it, so we say it has a length of 3. In the example pictured below, the array has 2 axes. The first axis has a length of 2, the second axis has a length of 3.\n",
        "\n",
        "[[ 1., 0., 0.],\n",
        " [ 0., 1., 2.]]"
      ]
    },
    {
      "cell_type": "markdown",
      "metadata": {
        "id": "JjTd4MXkQhVQ",
        "colab_type": "text"
      },
      "source": [
        ""
      ]
    },
    {
      "cell_type": "code",
      "metadata": {
        "id": "-OE2i_vqQVhS",
        "colab_type": "code",
        "outputId": "066a2989-c583-4a0b-cc7e-a92be4a04e94",
        "colab": {
          "base_uri": "https://localhost:8080/",
          "height": 67
        }
      },
      "source": [
        "import numpy as np\n",
        "np.random.RandomState(seed=52)\n",
        "a = np.arange(15).reshape(3,5)\n",
        "a"
      ],
      "execution_count": 1,
      "outputs": [
        {
          "output_type": "execute_result",
          "data": {
            "text/plain": [
              "array([[ 0,  1,  2,  3,  4],\n",
              "       [ 5,  6,  7,  8,  9],\n",
              "       [10, 11, 12, 13, 14]])"
            ]
          },
          "metadata": {
            "tags": []
          },
          "execution_count": 1
        }
      ]
    },
    {
      "cell_type": "code",
      "metadata": {
        "id": "pZUhY7DgJaLG",
        "colab_type": "code",
        "cellView": "code",
        "outputId": "3e777fe0-1543-492d-9a19-414292f2364a",
        "colab": {
          "base_uri": "https://localhost:8080/",
          "height": 33
        }
      },
      "source": [
        "a.shape"
      ],
      "execution_count": 2,
      "outputs": [
        {
          "output_type": "execute_result",
          "data": {
            "text/plain": [
              "(3, 5)"
            ]
          },
          "metadata": {
            "tags": []
          },
          "execution_count": 2
        }
      ]
    },
    {
      "cell_type": "code",
      "metadata": {
        "id": "BQ_tkKn4RL7Y",
        "colab_type": "code",
        "outputId": "d9543b88-973e-4f64-86e3-ad4fa10b36c4",
        "colab": {
          "base_uri": "https://localhost:8080/",
          "height": 33
        }
      },
      "source": [
        "a.ndim"
      ],
      "execution_count": 3,
      "outputs": [
        {
          "output_type": "execute_result",
          "data": {
            "text/plain": [
              "2"
            ]
          },
          "metadata": {
            "tags": []
          },
          "execution_count": 3
        }
      ]
    },
    {
      "cell_type": "code",
      "metadata": {
        "id": "8cTJUwbgRk1b",
        "colab_type": "code",
        "outputId": "b5204c70-df66-47ec-f2fc-42445db3212d",
        "colab": {
          "base_uri": "https://localhost:8080/",
          "height": 33
        }
      },
      "source": [
        "a.dtype.name"
      ],
      "execution_count": 4,
      "outputs": [
        {
          "output_type": "execute_result",
          "data": {
            "text/plain": [
              "'int64'"
            ]
          },
          "metadata": {
            "tags": []
          },
          "execution_count": 4
        }
      ]
    },
    {
      "cell_type": "code",
      "metadata": {
        "id": "2YM7thWORps2",
        "colab_type": "code",
        "outputId": "77fd98ae-25ef-491a-8b16-014e1856a605",
        "colab": {
          "base_uri": "https://localhost:8080/",
          "height": 33
        }
      },
      "source": [
        "a.itemsize"
      ],
      "execution_count": 5,
      "outputs": [
        {
          "output_type": "execute_result",
          "data": {
            "text/plain": [
              "8"
            ]
          },
          "metadata": {
            "tags": []
          },
          "execution_count": 5
        }
      ]
    },
    {
      "cell_type": "code",
      "metadata": {
        "id": "eWJAvxJ-R0e4",
        "colab_type": "code",
        "outputId": "3f1693ee-75c0-4196-d6c8-4d6782d3f9ad",
        "colab": {
          "base_uri": "https://localhost:8080/",
          "height": 33
        }
      },
      "source": [
        "a.size"
      ],
      "execution_count": 6,
      "outputs": [
        {
          "output_type": "execute_result",
          "data": {
            "text/plain": [
              "15"
            ]
          },
          "metadata": {
            "tags": []
          },
          "execution_count": 6
        }
      ]
    },
    {
      "cell_type": "code",
      "metadata": {
        "id": "Vk0VCDfyR2a8",
        "colab_type": "code",
        "outputId": "c86ef251-6c64-448e-9017-a2ac423c89dc",
        "colab": {
          "base_uri": "https://localhost:8080/",
          "height": 33
        }
      },
      "source": [
        "type(a)"
      ],
      "execution_count": 7,
      "outputs": [
        {
          "output_type": "execute_result",
          "data": {
            "text/plain": [
              "numpy.ndarray"
            ]
          },
          "metadata": {
            "tags": []
          },
          "execution_count": 7
        }
      ]
    },
    {
      "cell_type": "code",
      "metadata": {
        "id": "oN-Sh6eGR3wo",
        "colab_type": "code",
        "outputId": "3fa0c805-fcd9-48b4-e3ae-27cab2c4e857",
        "colab": {
          "base_uri": "https://localhost:8080/",
          "height": 33
        }
      },
      "source": [
        "b = np.array([6,7,8])\n",
        "b"
      ],
      "execution_count": 8,
      "outputs": [
        {
          "output_type": "execute_result",
          "data": {
            "text/plain": [
              "array([6, 7, 8])"
            ]
          },
          "metadata": {
            "tags": []
          },
          "execution_count": 8
        }
      ]
    },
    {
      "cell_type": "code",
      "metadata": {
        "id": "lx0LeefRR84w",
        "colab_type": "code",
        "outputId": "26c6e91e-1f23-4689-fdaf-85abb6bf1630",
        "colab": {
          "base_uri": "https://localhost:8080/",
          "height": 33
        }
      },
      "source": [
        "type(b)"
      ],
      "execution_count": 9,
      "outputs": [
        {
          "output_type": "execute_result",
          "data": {
            "text/plain": [
              "numpy.ndarray"
            ]
          },
          "metadata": {
            "tags": []
          },
          "execution_count": 9
        }
      ]
    },
    {
      "cell_type": "markdown",
      "metadata": {
        "id": "PJonbJ86Sr2G",
        "colab_type": "text"
      },
      "source": [
        "Array Creation\n"
      ]
    },
    {
      "cell_type": "code",
      "metadata": {
        "id": "r7J44nEHSQNq",
        "colab_type": "code",
        "outputId": "84293834-9756-4791-9eb1-0365aaa4d190",
        "colab": {
          "base_uri": "https://localhost:8080/",
          "height": 50
        }
      },
      "source": [
        "import numpy as np\n",
        "a = np.array([2,3,4])\n",
        "print(a)\n",
        "print(a.dtype,\n",
        "a.ndim,\n",
        "a.shape,\n",
        "type(a),\n",
        "a.itemsize)"
      ],
      "execution_count": 10,
      "outputs": [
        {
          "output_type": "stream",
          "text": [
            "[2 3 4]\n",
            "int64 1 (3,) <class 'numpy.ndarray'> 8\n"
          ],
          "name": "stdout"
        }
      ]
    },
    {
      "cell_type": "code",
      "metadata": {
        "id": "A5RpQEslS634",
        "colab_type": "code",
        "outputId": "e528e6e4-e471-4ea7-bc9e-35dbcd86a008",
        "colab": {
          "base_uri": "https://localhost:8080/",
          "height": 33
        }
      },
      "source": [
        "b = np.array([1.2,4.5,5.1])\n",
        "b.dtype"
      ],
      "execution_count": 11,
      "outputs": [
        {
          "output_type": "execute_result",
          "data": {
            "text/plain": [
              "dtype('float64')"
            ]
          },
          "metadata": {
            "tags": []
          },
          "execution_count": 11
        }
      ]
    },
    {
      "cell_type": "code",
      "metadata": {
        "id": "fxmBnyQgTIVx",
        "colab_type": "code",
        "colab": {}
      },
      "source": [
        "#a = np.array(1,2,3,4)  #WRONG\n",
        "a = np.array([1,2,3,4])  #RIGHT"
      ],
      "execution_count": 0,
      "outputs": []
    },
    {
      "cell_type": "code",
      "metadata": {
        "id": "Vd_CivDpToWS",
        "colab_type": "code",
        "outputId": "48e4994c-d7fd-4e2e-8d23-5a8b076c26a3",
        "colab": {
          "base_uri": "https://localhost:8080/",
          "height": 67
        }
      },
      "source": [
        "b = np.array([(1.5,2,3), (4,5,6)])\n",
        "print(b)\n",
        "print(b.dtype,\n",
        "b.ndim,\n",
        "b.shape,\n",
        "type(b),\n",
        "b.itemsize)"
      ],
      "execution_count": 13,
      "outputs": [
        {
          "output_type": "stream",
          "text": [
            "[[1.5 2.  3. ]\n",
            " [4.  5.  6. ]]\n",
            "float64 2 (2, 3) <class 'numpy.ndarray'> 8\n"
          ],
          "name": "stdout"
        }
      ]
    },
    {
      "cell_type": "code",
      "metadata": {
        "id": "S2WF8BVMVAwV",
        "colab_type": "code",
        "outputId": "9fe79923-a5fa-4a29-ab4a-a774aa2237a0",
        "colab": {
          "base_uri": "https://localhost:8080/",
          "height": 50
        }
      },
      "source": [
        "c = np.array([ [1,2] , [3,4] ], dtype=complex)\n",
        "c"
      ],
      "execution_count": 14,
      "outputs": [
        {
          "output_type": "execute_result",
          "data": {
            "text/plain": [
              "array([[1.+0.j, 2.+0.j],\n",
              "       [3.+0.j, 4.+0.j]])"
            ]
          },
          "metadata": {
            "tags": []
          },
          "execution_count": 14
        }
      ]
    },
    {
      "cell_type": "code",
      "metadata": {
        "id": "9Ivi7FcGVPdJ",
        "colab_type": "code",
        "outputId": "1ffef459-2e76-45bb-cc2b-21bb622b8b75",
        "colab": {
          "base_uri": "https://localhost:8080/",
          "height": 67
        }
      },
      "source": [
        "np.zeros((3,4))"
      ],
      "execution_count": 15,
      "outputs": [
        {
          "output_type": "execute_result",
          "data": {
            "text/plain": [
              "array([[0., 0., 0., 0.],\n",
              "       [0., 0., 0., 0.],\n",
              "       [0., 0., 0., 0.]])"
            ]
          },
          "metadata": {
            "tags": []
          },
          "execution_count": 15
        }
      ]
    },
    {
      "cell_type": "code",
      "metadata": {
        "id": "Pwt6Mzw1WC7-",
        "colab_type": "code",
        "outputId": "e8c4abd6-d4ed-4b11-eb12-13eb17c74143",
        "colab": {
          "base_uri": "https://localhost:8080/",
          "height": 133
        }
      },
      "source": [
        "np.ones( (2,3,4), dtype=np.int16)"
      ],
      "execution_count": 16,
      "outputs": [
        {
          "output_type": "execute_result",
          "data": {
            "text/plain": [
              "array([[[1, 1, 1, 1],\n",
              "        [1, 1, 1, 1],\n",
              "        [1, 1, 1, 1]],\n",
              "\n",
              "       [[1, 1, 1, 1],\n",
              "        [1, 1, 1, 1],\n",
              "        [1, 1, 1, 1]]], dtype=int16)"
            ]
          },
          "metadata": {
            "tags": []
          },
          "execution_count": 16
        }
      ]
    },
    {
      "cell_type": "code",
      "metadata": {
        "id": "lj5BFJ2TWezj",
        "colab_type": "code",
        "outputId": "07640beb-ee88-4e94-b25b-a8c7b289ac4b",
        "colab": {
          "base_uri": "https://localhost:8080/",
          "height": 50
        }
      },
      "source": [
        "np.empty( (2,3) )  #uninitialized, output may vary"
      ],
      "execution_count": 17,
      "outputs": [
        {
          "output_type": "execute_result",
          "data": {
            "text/plain": [
              "array([[1.5, 2. , 3. ],\n",
              "       [4. , 5. , 6. ]])"
            ]
          },
          "metadata": {
            "tags": []
          },
          "execution_count": 17
        }
      ]
    },
    {
      "cell_type": "code",
      "metadata": {
        "id": "XD2F4Y6OWoLo",
        "colab_type": "code",
        "outputId": "48ddb6c5-ed6d-4252-e992-b25ea831ee02",
        "colab": {
          "base_uri": "https://localhost:8080/",
          "height": 33
        }
      },
      "source": [
        "np.arange( 10,30,5 )\n",
        "np.arange( 10,31,5 ) #check this\n",
        "np.arange( 0,2,0.3 )"
      ],
      "execution_count": 18,
      "outputs": [
        {
          "output_type": "execute_result",
          "data": {
            "text/plain": [
              "array([0. , 0.3, 0.6, 0.9, 1.2, 1.5, 1.8])"
            ]
          },
          "metadata": {
            "tags": []
          },
          "execution_count": 18
        }
      ]
    },
    {
      "cell_type": "code",
      "metadata": {
        "id": "jJoDLPSdW8v6",
        "colab_type": "code",
        "outputId": "f2c5e703-f933-4a4b-c540-66ee650a614d",
        "colab": {
          "base_uri": "https://localhost:8080/",
          "height": 450
        }
      },
      "source": [
        "from numpy import pi\n",
        "print(np.linspace(0,2,9))  #9 numbers from 0 to 2\n",
        "\n",
        "x= np.linspace(0,2*pi,100)  #useful to evaluate function at lots of points\n",
        "f=np.sin(x)\n",
        "print(f)\n",
        "\n"
      ],
      "execution_count": 19,
      "outputs": [
        {
          "output_type": "stream",
          "text": [
            "[0.   0.25 0.5  0.75 1.   1.25 1.5  1.75 2.  ]\n",
            "[ 0.00000000e+00  6.34239197e-02  1.26592454e-01  1.89251244e-01\n",
            "  2.51147987e-01  3.12033446e-01  3.71662456e-01  4.29794912e-01\n",
            "  4.86196736e-01  5.40640817e-01  5.92907929e-01  6.42787610e-01\n",
            "  6.90079011e-01  7.34591709e-01  7.76146464e-01  8.14575952e-01\n",
            "  8.49725430e-01  8.81453363e-01  9.09631995e-01  9.34147860e-01\n",
            "  9.54902241e-01  9.71811568e-01  9.84807753e-01  9.93838464e-01\n",
            "  9.98867339e-01  9.99874128e-01  9.96854776e-01  9.89821442e-01\n",
            "  9.78802446e-01  9.63842159e-01  9.45000819e-01  9.22354294e-01\n",
            "  8.95993774e-01  8.66025404e-01  8.32569855e-01  7.95761841e-01\n",
            "  7.55749574e-01  7.12694171e-01  6.66769001e-01  6.18158986e-01\n",
            "  5.67059864e-01  5.13677392e-01  4.58226522e-01  4.00930535e-01\n",
            "  3.42020143e-01  2.81732557e-01  2.20310533e-01  1.58001396e-01\n",
            "  9.50560433e-02  3.17279335e-02 -3.17279335e-02 -9.50560433e-02\n",
            " -1.58001396e-01 -2.20310533e-01 -2.81732557e-01 -3.42020143e-01\n",
            " -4.00930535e-01 -4.58226522e-01 -5.13677392e-01 -5.67059864e-01\n",
            " -6.18158986e-01 -6.66769001e-01 -7.12694171e-01 -7.55749574e-01\n",
            " -7.95761841e-01 -8.32569855e-01 -8.66025404e-01 -8.95993774e-01\n",
            " -9.22354294e-01 -9.45000819e-01 -9.63842159e-01 -9.78802446e-01\n",
            " -9.89821442e-01 -9.96854776e-01 -9.99874128e-01 -9.98867339e-01\n",
            " -9.93838464e-01 -9.84807753e-01 -9.71811568e-01 -9.54902241e-01\n",
            " -9.34147860e-01 -9.09631995e-01 -8.81453363e-01 -8.49725430e-01\n",
            " -8.14575952e-01 -7.76146464e-01 -7.34591709e-01 -6.90079011e-01\n",
            " -6.42787610e-01 -5.92907929e-01 -5.40640817e-01 -4.86196736e-01\n",
            " -4.29794912e-01 -3.71662456e-01 -3.12033446e-01 -2.51147987e-01\n",
            " -1.89251244e-01 -1.26592454e-01 -6.34239197e-02 -2.44929360e-16]\n"
          ],
          "name": "stdout"
        }
      ]
    },
    {
      "cell_type": "code",
      "metadata": {
        "id": "QECuwbEzZjCO",
        "colab_type": "code",
        "colab": {}
      },
      "source": [
        "#array, zeros, zeros_like, ones, ones_like, empty, \n",
        "#empty_like, arange, linspace, numpy.random.rand, \n",
        "#numpy.random.randn, fromfunction, fromfile"
      ],
      "execution_count": 0,
      "outputs": []
    },
    {
      "cell_type": "markdown",
      "metadata": {
        "id": "wAzpwv-rX-f5",
        "colab_type": "text"
      },
      "source": [
        "Printing Arrays\n",
        "When you print an array, NumPy displays it in a similar way to nested lists, but with the following layout:\n",
        "\n",
        "the last axis is printed from left to right,\n",
        "the second-to-last is printed from top to bottom,\n",
        "the rest are also printed from top to bottom, with each slice separated from the next by an empty line.\n",
        "\n",
        "One-dimensional arrays are then printed as rows, bidimensionals as matrices and tridimensionals as lists of matrices."
      ]
    },
    {
      "cell_type": "code",
      "metadata": {
        "id": "_KsiRIcMW29q",
        "colab_type": "code",
        "outputId": "4465aa48-c2c5-4338-dd65-1e56e204f3e9",
        "colab": {
          "base_uri": "https://localhost:8080/",
          "height": 250
        }
      },
      "source": [
        "a = np.arange(6)   #1d array\n",
        "print(a)\n",
        "print()\n",
        "\n",
        "b = np.arange(12).reshape(4,3)   #2d array\n",
        "print(b)\n",
        "print()\n",
        "\n",
        "c = np.arange(24).reshape(2,3,4)   #3d array\n",
        "print(c)"
      ],
      "execution_count": 21,
      "outputs": [
        {
          "output_type": "stream",
          "text": [
            "[0 1 2 3 4 5]\n",
            "\n",
            "[[ 0  1  2]\n",
            " [ 3  4  5]\n",
            " [ 6  7  8]\n",
            " [ 9 10 11]]\n",
            "\n",
            "[[[ 0  1  2  3]\n",
            "  [ 4  5  6  7]\n",
            "  [ 8  9 10 11]]\n",
            "\n",
            " [[12 13 14 15]\n",
            "  [16 17 18 19]\n",
            "  [20 21 22 23]]]\n"
          ],
          "name": "stdout"
        }
      ]
    },
    {
      "cell_type": "code",
      "metadata": {
        "id": "vduAPSfSZKxf",
        "colab_type": "code",
        "outputId": "22149aa2-1d34-4a40-e4ca-94b3543be549",
        "colab": {
          "base_uri": "https://localhost:8080/",
          "height": 183
        }
      },
      "source": [
        "print(np.arange(10000))\n",
        "print()\n",
        "print()\n",
        "print(np.arange(10000).reshape(100,100))\n",
        "\n",
        "#To disable this behaviour and force NumPy to print the entire array, \n",
        "#you can change the printing options using set_printoptions.\n",
        "\n",
        "#np.set_printoptions(threshold=np.nan) not supported in python 3\n",
        "\n"
      ],
      "execution_count": 22,
      "outputs": [
        {
          "output_type": "stream",
          "text": [
            "[   0    1    2 ... 9997 9998 9999]\n",
            "\n",
            "\n",
            "[[   0    1    2 ...   97   98   99]\n",
            " [ 100  101  102 ...  197  198  199]\n",
            " [ 200  201  202 ...  297  298  299]\n",
            " ...\n",
            " [9700 9701 9702 ... 9797 9798 9799]\n",
            " [9800 9801 9802 ... 9897 9898 9899]\n",
            " [9900 9901 9902 ... 9997 9998 9999]]\n"
          ],
          "name": "stdout"
        }
      ]
    },
    {
      "cell_type": "code",
      "metadata": {
        "id": "_7VX8yKlZy0R",
        "colab_type": "code",
        "outputId": "54959511-be99-441a-f662-321568d08c5c",
        "colab": {
          "base_uri": "https://localhost:8080/",
          "height": 100
        }
      },
      "source": [
        "a = np.array( [20,30,40,50] )\n",
        "b = np.arange( 4 )\n",
        "print(b)\n",
        "\n",
        "c = a-b\n",
        "print(c)\n",
        "\n",
        "print(b**2)\n",
        "\n",
        "print(10*np.sin(a))\n",
        "\n",
        "a<35"
      ],
      "execution_count": 23,
      "outputs": [
        {
          "output_type": "stream",
          "text": [
            "[0 1 2 3]\n",
            "[20 29 38 47]\n",
            "[0 1 4 9]\n",
            "[ 9.12945251 -9.88031624  7.4511316  -2.62374854]\n"
          ],
          "name": "stdout"
        },
        {
          "output_type": "execute_result",
          "data": {
            "text/plain": [
              "array([ True,  True, False, False])"
            ]
          },
          "metadata": {
            "tags": []
          },
          "execution_count": 23
        }
      ]
    },
    {
      "cell_type": "code",
      "metadata": {
        "id": "6zEijNRibgHU",
        "colab_type": "code",
        "outputId": "20ee811e-c9d8-4b3a-d3f9-10222b3e46f6",
        "colab": {
          "base_uri": "https://localhost:8080/",
          "height": 150
        }
      },
      "source": [
        "A = np.array( [[1,1],\n",
        "            [0,1]] )\n",
        "\n",
        "B = np.array( [[2,0],\n",
        "            [3,4]] )\n",
        "print(A * B)                       # elementwise product\n",
        "print()\n",
        "print(A @ B)                       # matrix product\n",
        "print()\n",
        "print(A.dot(B))                    # another matrix product"
      ],
      "execution_count": 24,
      "outputs": [
        {
          "output_type": "stream",
          "text": [
            "[[2 0]\n",
            " [0 4]]\n",
            "\n",
            "[[5 4]\n",
            " [3 4]]\n",
            "\n",
            "[[5 4]\n",
            " [3 4]]\n"
          ],
          "name": "stdout"
        }
      ]
    },
    {
      "cell_type": "code",
      "metadata": {
        "id": "_L8Jd6Drddym",
        "colab_type": "code",
        "outputId": "1b265ad6-ef47-4375-aab2-40b7e7369bd7",
        "colab": {
          "base_uri": "https://localhost:8080/",
          "height": 117
        }
      },
      "source": [
        "a = np.ones((2,3), dtype=int)\n",
        "b = np.random.random((2,3))\n",
        "a *= 3\n",
        "print(a)\n",
        "print()\n",
        "\n",
        "\n",
        "b += a\n",
        "print(b)\n",
        "print()\n",
        "\n",
        "#print(a += b)                  # b is not automatically converted to integer type\n",
        "\n",
        "  "
      ],
      "execution_count": 25,
      "outputs": [
        {
          "output_type": "stream",
          "text": [
            "[[3 3 3]\n",
            " [3 3 3]]\n",
            "\n",
            "[[3.60264588 3.63618358 3.22944501]\n",
            " [3.17855668 3.71172192 3.16137945]]\n",
            "\n"
          ],
          "name": "stdout"
        }
      ]
    },
    {
      "cell_type": "code",
      "metadata": {
        "id": "TkPi-EkJgbDX",
        "colab_type": "code",
        "outputId": "41b27cbb-7e71-43fc-9800-e8bca23c27e2",
        "colab": {
          "base_uri": "https://localhost:8080/",
          "height": 167
        }
      },
      "source": [
        "a = np.ones(3, dtype=np.int32)\n",
        "b = np.linspace(0,pi,3)\n",
        "print(b.dtype.name)\n",
        "print()\n",
        "c = a+b\n",
        "print(c)\n",
        "print()\n",
        "print(c.dtype.name)\n",
        "print()\n",
        "d = np.exp(c*1j)\n",
        "print(d)\n",
        "print()\n",
        "\n",
        "d.dtype.name"
      ],
      "execution_count": 26,
      "outputs": [
        {
          "output_type": "stream",
          "text": [
            "float64\n",
            "\n",
            "[1.         2.57079633 4.14159265]\n",
            "\n",
            "float64\n",
            "\n",
            "[ 0.54030231+0.84147098j -0.84147098+0.54030231j -0.54030231-0.84147098j]\n",
            "\n"
          ],
          "name": "stdout"
        },
        {
          "output_type": "execute_result",
          "data": {
            "text/plain": [
              "'complex128'"
            ]
          },
          "metadata": {
            "tags": []
          },
          "execution_count": 26
        }
      ]
    },
    {
      "cell_type": "code",
      "metadata": {
        "id": "2qf4F0y8hoHz",
        "colab_type": "code",
        "outputId": "63c0baa9-aeee-42a9-eb38-54c7fdd0bdfd",
        "colab": {
          "base_uri": "https://localhost:8080/",
          "height": 150
        }
      },
      "source": [
        "a=np.random.random((2,3))  \n",
        "print(a)\n",
        "print()\n",
        "print(a.sum())    ###unary operations\n",
        "print()\n",
        "print(a.min())\n",
        "print()\n",
        "print(a.max())"
      ],
      "execution_count": 27,
      "outputs": [
        {
          "output_type": "stream",
          "text": [
            "[[0.31217298 0.75578244 0.02196715]\n",
            " [0.00248591 0.67601426 0.40005798]]\n",
            "\n",
            "2.168480726804988\n",
            "\n",
            "0.002485906790943737\n",
            "\n",
            "0.7557824434288327\n"
          ],
          "name": "stdout"
        }
      ]
    },
    {
      "cell_type": "code",
      "metadata": {
        "id": "7I6LcND0iX20",
        "colab_type": "code",
        "outputId": "a982cc18-a75a-4f60-9358-410dc6d1d6cb",
        "colab": {
          "base_uri": "https://localhost:8080/",
          "height": 200
        }
      },
      "source": [
        "import numpy as np\n",
        "\n",
        "b = np.arange(12).reshape(3,4)\n",
        "print(b)\n",
        "print()\n",
        "\n",
        "print(b.sum(axis=0))     # sum of each column\n",
        "print()\n",
        "\n",
        "print(b.min(axis=1))   # min of each row\n",
        "print()\n",
        "\n",
        "print(b.cumsum(axis=1))   # cumulative sum along each row"
      ],
      "execution_count": 28,
      "outputs": [
        {
          "output_type": "stream",
          "text": [
            "[[ 0  1  2  3]\n",
            " [ 4  5  6  7]\n",
            " [ 8  9 10 11]]\n",
            "\n",
            "[12 15 18 21]\n",
            "\n",
            "[0 4 8]\n",
            "\n",
            "[[ 0  1  3  6]\n",
            " [ 4  9 15 22]\n",
            " [ 8 17 27 38]]\n"
          ],
          "name": "stdout"
        }
      ]
    },
    {
      "cell_type": "markdown",
      "metadata": {
        "id": "knYL8Cl77csC",
        "colab_type": "text"
      },
      "source": [
        "## Universal Functions"
      ]
    },
    {
      "cell_type": "code",
      "metadata": {
        "id": "ZMaWR1Hd7iCf",
        "colab_type": "code",
        "outputId": "1e5d93f6-53e5-4687-90fd-79335063a4f6",
        "colab": {
          "base_uri": "https://localhost:8080/",
          "height": 183
        }
      },
      "source": [
        "B = np.arange(3)\n",
        "print(B)\n",
        "print()\n",
        "\n",
        "print(np.exp(B))\n",
        "print()\n",
        "\n",
        "print(np.sqrt(B))\n",
        "print()\n",
        "\n",
        "C = np.array([2., -1, 4.])\n",
        "print(C)\n",
        "print()\n",
        "\n",
        "print(np.add(B, C))\n",
        "np.subtract(B,C)\n"
      ],
      "execution_count": 29,
      "outputs": [
        {
          "output_type": "stream",
          "text": [
            "[0 1 2]\n",
            "\n",
            "[1.         2.71828183 7.3890561 ]\n",
            "\n",
            "[0.         1.         1.41421356]\n",
            "\n",
            "[ 2. -1.  4.]\n",
            "\n",
            "[2. 0. 6.]\n"
          ],
          "name": "stdout"
        },
        {
          "output_type": "execute_result",
          "data": {
            "text/plain": [
              "array([-2.,  2., -2.])"
            ]
          },
          "metadata": {
            "tags": []
          },
          "execution_count": 29
        }
      ]
    },
    {
      "cell_type": "markdown",
      "metadata": {
        "id": "kGlPt3Nf-c_N",
        "colab_type": "text"
      },
      "source": [
        "## Indexing, Slicing and Iterating"
      ]
    },
    {
      "cell_type": "code",
      "metadata": {
        "id": "CApzqu3A8kVk",
        "colab_type": "code",
        "outputId": "94df7ef1-caaf-4c4c-baf7-0375461a38a5",
        "colab": {
          "base_uri": "https://localhost:8080/",
          "height": 333
        }
      },
      "source": [
        "a = np.arange(10)**3\n",
        "print(a)\n",
        "\n",
        "print(a[2])\n",
        "print()\n",
        "\n",
        "print(a[2:5])\n",
        "print()\n",
        "\n",
        "print(a[:6:2])\n",
        "print()\n",
        "\n",
        "print(a[::-1])\n",
        "print()\n",
        "\n",
        "for i in a:\n",
        "  print(i**(1/3.))\n"
      ],
      "execution_count": 30,
      "outputs": [
        {
          "output_type": "stream",
          "text": [
            "[  0   1   8  27  64 125 216 343 512 729]\n",
            "8\n",
            "\n",
            "[ 8 27 64]\n",
            "\n",
            "[ 0  8 64]\n",
            "\n",
            "[729 512 343 216 125  64  27   8   1   0]\n",
            "\n",
            "0.0\n",
            "1.0\n",
            "2.0\n",
            "3.0\n",
            "3.9999999999999996\n",
            "4.999999999999999\n",
            "5.999999999999999\n",
            "6.999999999999999\n",
            "7.999999999999999\n",
            "8.999999999999998\n"
          ],
          "name": "stdout"
        }
      ]
    },
    {
      "cell_type": "code",
      "metadata": {
        "id": "UzC6uBlaBTfe",
        "colab_type": "code",
        "outputId": "1c0a1d09-dc96-461d-d065-f5163d3d2190",
        "colab": {
          "base_uri": "https://localhost:8080/",
          "height": 250
        }
      },
      "source": [
        "\n",
        "def f(x,y):\n",
        "  return 10*x+y\n",
        "\n",
        "\n",
        "#Each parameter represents the coordinates of the array varying \n",
        "#along a specific axis. For example, if shape were (2, 2), \n",
        "#then the parameters would be array([[0, 0], [1, 1]]) and array([[0, 1], [0, 1]])\n",
        "b = np.fromfunction(f, (5,4), dtype=int)\n",
        "print(b)\n",
        "print()\n",
        "\n",
        "print(b[2,3])\n",
        "print()\n",
        "\n",
        "print(b[0:5,1])\n",
        "print()\n",
        "\n",
        "print(b[: ,1])\n",
        "print()\n",
        "\n",
        "print(b[1:3, :])   ##1:3 gives rows 1 and 2 only"
      ],
      "execution_count": 31,
      "outputs": [
        {
          "output_type": "stream",
          "text": [
            "[[ 0  1  2  3]\n",
            " [10 11 12 13]\n",
            " [20 21 22 23]\n",
            " [30 31 32 33]\n",
            " [40 41 42 43]]\n",
            "\n",
            "23\n",
            "\n",
            "[ 1 11 21 31 41]\n",
            "\n",
            "[ 1 11 21 31 41]\n",
            "\n",
            "[[10 11 12 13]\n",
            " [20 21 22 23]]\n"
          ],
          "name": "stdout"
        }
      ]
    },
    {
      "cell_type": "code",
      "metadata": {
        "id": "FUaUzw7kjKQ9",
        "colab_type": "code",
        "outputId": "6a9551c5-fddb-4287-8220-f08efa1979ca",
        "colab": {
          "base_uri": "https://localhost:8080/",
          "height": 33
        }
      },
      "source": [
        "b[-1] ##similar to b[-1,:]"
      ],
      "execution_count": 32,
      "outputs": [
        {
          "output_type": "execute_result",
          "data": {
            "text/plain": [
              "array([40, 41, 42, 43])"
            ]
          },
          "metadata": {
            "tags": []
          },
          "execution_count": 32
        }
      ]
    },
    {
      "cell_type": "code",
      "metadata": {
        "id": "Fv4byP9zjZt-",
        "colab_type": "code",
        "outputId": "530042f2-1b5d-43a4-8766-7c4b9f05345b",
        "colab": {
          "base_uri": "https://localhost:8080/",
          "height": 200
        }
      },
      "source": [
        "c = np.array( [[[  0,  1,  2],          # a 3D array (two stacked 2D arrays)\n",
        "                [ 10, 12, 13]],\n",
        "               [[100,101,102],\n",
        "                [110,112,113]]])\n",
        "\n",
        "#c.shape\n",
        "print(c)\n",
        "#c.ndim\n",
        "print()\n",
        "\n",
        "print(c[1,...])  #sames as c[1,:,:] or c[1]\n",
        "print()\n",
        "\n",
        "print(c[...,2])"
      ],
      "execution_count": 33,
      "outputs": [
        {
          "output_type": "stream",
          "text": [
            "[[[  0   1   2]\n",
            "  [ 10  12  13]]\n",
            "\n",
            " [[100 101 102]\n",
            "  [110 112 113]]]\n",
            "\n",
            "[[100 101 102]\n",
            " [110 112 113]]\n",
            "\n",
            "[[  2  13]\n",
            " [102 113]]\n"
          ],
          "name": "stdout"
        }
      ]
    },
    {
      "cell_type": "code",
      "metadata": {
        "id": "EaTMjsEFk1YE",
        "colab_type": "code",
        "outputId": "4b45fa26-c490-4859-d6ae-3e548cdd0df9",
        "colab": {
          "base_uri": "https://localhost:8080/",
          "height": 100
        }
      },
      "source": [
        "##Iterating over multidimensional arrays\n",
        "\n",
        "for row in b:\n",
        "  print(row)"
      ],
      "execution_count": 34,
      "outputs": [
        {
          "output_type": "stream",
          "text": [
            "[0 1 2 3]\n",
            "[10 11 12 13]\n",
            "[20 21 22 23]\n",
            "[30 31 32 33]\n",
            "[40 41 42 43]\n"
          ],
          "name": "stdout"
        }
      ]
    },
    {
      "cell_type": "code",
      "metadata": {
        "id": "ZdktTEKTlOL5",
        "colab_type": "code",
        "outputId": "fc0ebef0-9a32-40cf-8bff-c8a80c349424",
        "colab": {
          "base_uri": "https://localhost:8080/",
          "height": 350
        }
      },
      "source": [
        "#flat attribute which is an iterator over all the elements of the array:\n",
        "\n",
        "for element in b.flat:\n",
        "  print(element)"
      ],
      "execution_count": 35,
      "outputs": [
        {
          "output_type": "stream",
          "text": [
            "0\n",
            "1\n",
            "2\n",
            "3\n",
            "10\n",
            "11\n",
            "12\n",
            "13\n",
            "20\n",
            "21\n",
            "22\n",
            "23\n",
            "30\n",
            "31\n",
            "32\n",
            "33\n",
            "40\n",
            "41\n",
            "42\n",
            "43\n"
          ],
          "name": "stdout"
        }
      ]
    },
    {
      "cell_type": "markdown",
      "metadata": {
        "id": "spji_yJqlZJw",
        "colab_type": "text"
      },
      "source": [
        "# **Shape** **Manipulation**"
      ]
    },
    {
      "cell_type": "code",
      "metadata": {
        "id": "jCVum2yglYtb",
        "colab_type": "code",
        "outputId": "2b93928f-d212-441f-9539-812950a11b9a",
        "colab": {
          "base_uri": "https://localhost:8080/",
          "height": 100
        }
      },
      "source": [
        "a = np.floor(10*np.random.random((3,4)))\n",
        "print(a)\n",
        "print()\n",
        "\n",
        "print(a.shape)"
      ],
      "execution_count": 36,
      "outputs": [
        {
          "output_type": "stream",
          "text": [
            "[[0. 8. 4. 6.]\n",
            " [3. 7. 0. 6.]\n",
            " [6. 5. 5. 8.]]\n",
            "\n",
            "(3, 4)\n"
          ],
          "name": "stdout"
        }
      ]
    },
    {
      "cell_type": "code",
      "metadata": {
        "id": "ItmyBjzslxlp",
        "colab_type": "code",
        "outputId": "61998000-185d-42af-d289-82a60dc2e892",
        "colab": {
          "base_uri": "https://localhost:8080/",
          "height": 250
        }
      },
      "source": [
        "# the following commands return a modified array, \n",
        "#but do not change the original awway\n",
        "\n",
        "print(a.ravel())    ##returns the arrat flattened\n",
        "print()\n",
        "\n",
        "print(a.reshape(6,2))\n",
        "print()\n",
        "\n",
        "print(a.T)\n",
        "print(a.T.shape)"
      ],
      "execution_count": 37,
      "outputs": [
        {
          "output_type": "stream",
          "text": [
            "[0. 8. 4. 6. 3. 7. 0. 6. 6. 5. 5. 8.]\n",
            "\n",
            "[[0. 8.]\n",
            " [4. 6.]\n",
            " [3. 7.]\n",
            " [0. 6.]\n",
            " [6. 5.]\n",
            " [5. 8.]]\n",
            "\n",
            "[[0. 3. 6.]\n",
            " [8. 7. 5.]\n",
            " [4. 0. 5.]\n",
            " [6. 6. 8.]]\n",
            "(4, 3)\n"
          ],
          "name": "stdout"
        }
      ]
    },
    {
      "cell_type": "markdown",
      "metadata": {
        "id": "DTOQBgWls4Br",
        "colab_type": "text"
      },
      "source": [
        "The order of the elements in the array resulting from ravel() is normally “C-style”, that is, the rightmost index “changes the fastest”, so the element after a[0,0] is a[0,1]. If the array is reshaped to some other shape, again the array is treated as “C-style”. NumPy normally creates arrays stored in this order, so ravel() will usually not need to copy its argument, but if the array was made by taking slices of another array or created with unusual options, it may need to be copied. The functions ravel() and reshape() can also be instructed, using an optional argument, to use FORTRAN-style arrays, in which the leftmost index changes the fastest"
      ]
    },
    {
      "cell_type": "markdown",
      "metadata": {
        "id": "wf7wy5UDs7Rd",
        "colab_type": "text"
      },
      "source": [
        "The **reshape** function returns its argument with a modified shape, whereas the ndarray.**resize** method modifies the array itself"
      ]
    },
    {
      "cell_type": "code",
      "metadata": {
        "id": "k629h_gDlU8E",
        "colab_type": "code",
        "outputId": "291da5c0-bbcf-4aca-b235-6b33f3d3dba9",
        "colab": {
          "base_uri": "https://localhost:8080/",
          "height": 150
        }
      },
      "source": [
        "print(a)\n",
        "print()\n",
        "\n",
        "print(a.resize((2,6)))\n",
        "print()\n",
        "\n",
        "print(a)"
      ],
      "execution_count": 38,
      "outputs": [
        {
          "output_type": "stream",
          "text": [
            "[[0. 8. 4. 6.]\n",
            " [3. 7. 0. 6.]\n",
            " [6. 5. 5. 8.]]\n",
            "\n",
            "None\n",
            "\n",
            "[[0. 8. 4. 6. 3. 7.]\n",
            " [0. 6. 6. 5. 5. 8.]]\n"
          ],
          "name": "stdout"
        }
      ]
    },
    {
      "cell_type": "code",
      "metadata": {
        "id": "YytdUTzptXVo",
        "colab_type": "code",
        "outputId": "2a973197-44ac-48a9-9a3b-87f967870fe2",
        "colab": {
          "base_uri": "https://localhost:8080/",
          "height": 117
        }
      },
      "source": [
        "print(a)\n",
        "print()\n",
        "a.reshape(3,-1)"
      ],
      "execution_count": 39,
      "outputs": [
        {
          "output_type": "stream",
          "text": [
            "[[0. 8. 4. 6. 3. 7.]\n",
            " [0. 6. 6. 5. 5. 8.]]\n",
            "\n"
          ],
          "name": "stdout"
        },
        {
          "output_type": "execute_result",
          "data": {
            "text/plain": [
              "array([[0., 8., 4., 6.],\n",
              "       [3., 7., 0., 6.],\n",
              "       [6., 5., 5., 8.]])"
            ]
          },
          "metadata": {
            "tags": []
          },
          "execution_count": 39
        }
      ]
    },
    {
      "cell_type": "markdown",
      "metadata": {
        "id": "j7OhhlDyvGZG",
        "colab_type": "text"
      },
      "source": [
        "# Stacking together different arrays"
      ]
    },
    {
      "cell_type": "code",
      "metadata": {
        "id": "VlHMxExjvIhR",
        "colab_type": "code",
        "colab": {}
      },
      "source": [
        "#import numpy as np\n",
        "#np.random.seed(50)\n",
        "#np.random.randint(1,20,20)"
      ],
      "execution_count": 0,
      "outputs": []
    },
    {
      "cell_type": "code",
      "metadata": {
        "id": "mp-cqYwH00wE",
        "colab_type": "code",
        "outputId": "d4e708fc-886e-4aec-8d3e-15f1513a6fd4",
        "colab": {
          "base_uri": "https://localhost:8080/",
          "height": 233
        }
      },
      "source": [
        "np.random.seed(10)\n",
        "a = np.floor(10*np.random.random((2,2)))\n",
        "print(a)\n",
        "print()\n",
        "\n",
        "np.random.seed(11)\n",
        "b = np.floor(10*np.random.random((2,2)))\n",
        "print(b)\n",
        "print()\n",
        "\n",
        "print(np.vstack((a,b)))\n",
        "print()\n",
        "\n",
        "print(np.hstack((a,b)))\n"
      ],
      "execution_count": 41,
      "outputs": [
        {
          "output_type": "stream",
          "text": [
            "[[7. 0.]\n",
            " [6. 7.]]\n",
            "\n",
            "[[1. 0.]\n",
            " [4. 7.]]\n",
            "\n",
            "[[7. 0.]\n",
            " [6. 7.]\n",
            " [1. 0.]\n",
            " [4. 7.]]\n",
            "\n",
            "[[7. 0. 1. 0.]\n",
            " [6. 7. 4. 7.]]\n"
          ],
          "name": "stdout"
        }
      ]
    },
    {
      "cell_type": "code",
      "metadata": {
        "id": "EL5WgqP_v-0o",
        "colab_type": "code",
        "outputId": "585f964b-bb8e-4122-b943-8b90c8c178b7",
        "colab": {
          "base_uri": "https://localhost:8080/",
          "height": 250
        }
      },
      "source": [
        "from numpy import newaxis\n",
        "np.column_stack((a,b))    # with 2D arrays\n",
        "\n",
        "a = np.array([4.,2.])\n",
        "b = np.array([3.,8.])\n",
        "print(np.column_stack((a,b)))\n",
        "print()\n",
        "\n",
        "print(np.hstack((a,b)))\n",
        "np.hstack((a,b))\n",
        "print()\n",
        "\n",
        "print(a[:,newaxis])\n",
        "print()\n",
        "\n",
        "print(np.column_stack((a[:,newaxis], b[:,newaxis])))\n",
        "print()\n",
        "\n",
        "print(np.hstack((a[:,newaxis], b[:,newaxis])))\n",
        "print()"
      ],
      "execution_count": 42,
      "outputs": [
        {
          "output_type": "stream",
          "text": [
            "[[4. 3.]\n",
            " [2. 8.]]\n",
            "\n",
            "[4. 2. 3. 8.]\n",
            "\n",
            "[[4.]\n",
            " [2.]]\n",
            "\n",
            "[[4. 3.]\n",
            " [2. 8.]]\n",
            "\n",
            "[[4. 3.]\n",
            " [2. 8.]]\n",
            "\n"
          ],
          "name": "stdout"
        }
      ]
    },
    {
      "cell_type": "markdown",
      "metadata": {
        "id": "-Ydh4tDm3YIN",
        "colab_type": "text"
      },
      "source": [
        "#**Practice from Educative**"
      ]
    },
    {
      "cell_type": "code",
      "metadata": {
        "id": "ss5Ab8Cr3kBT",
        "colab_type": "code",
        "outputId": "4052ae37-17b5-4c0a-9cfa-5c4bd1c1faa0",
        "colab": {
          "base_uri": "https://localhost:8080/",
          "height": 50
        }
      },
      "source": [
        "import numpy as np  # import the NumPy library\n",
        "\n",
        "# Initializing a NumPy array\n",
        "arr = np.array([-1, 2, 5], dtype=np.float32)\n",
        "\n",
        "# Print the representation of the array\n",
        "print(repr(arr))\n",
        "print(arr)"
      ],
      "execution_count": 43,
      "outputs": [
        {
          "output_type": "stream",
          "text": [
            "array([-1.,  2.,  5.], dtype=float32)\n",
            "[-1.  2.  5.]\n"
          ],
          "name": "stdout"
        }
      ]
    },
    {
      "cell_type": "code",
      "metadata": {
        "id": "Hef-VCYyaDQd",
        "colab_type": "code",
        "outputId": "b1c2185b-6c78-430e-8eb5-750038a6e465",
        "colab": {
          "base_uri": "https://localhost:8080/",
          "height": 50
        }
      },
      "source": [
        "import numpy as np\n",
        "\n",
        "arr = np.array([[0, 1, 2], [3, 4, 5]],\n",
        "               dtype=np.float32)\n",
        "print(repr(arr))"
      ],
      "execution_count": 44,
      "outputs": [
        {
          "output_type": "stream",
          "text": [
            "array([[0., 1., 2.],\n",
            "       [3., 4., 5.]], dtype=float32)\n"
          ],
          "name": "stdout"
        }
      ]
    },
    {
      "cell_type": "code",
      "metadata": {
        "id": "CW-iztwnasgD",
        "colab_type": "code",
        "outputId": "50f333a4-0ede-4f2a-d213-8da7a4fee556",
        "colab": {
          "base_uri": "https://localhost:8080/",
          "height": 33
        }
      },
      "source": [
        "arr = np.array([0,0.1,2])  ###UPCASTING\n",
        "print(repr(arr))"
      ],
      "execution_count": 45,
      "outputs": [
        {
          "output_type": "stream",
          "text": [
            "array([0. , 0.1, 2. ])\n"
          ],
          "name": "stdout"
        }
      ]
    },
    {
      "cell_type": "markdown",
      "metadata": {
        "id": "e5a-EpqCbGLT",
        "colab_type": "text"
      },
      "source": [
        "In the code example below, c is a reference to a while d is a copy. Therefore, changing c leads to the same change in a, while changing d does not change the value of b."
      ]
    },
    {
      "cell_type": "code",
      "metadata": {
        "id": "TqnVfrUua-Zf",
        "colab_type": "code",
        "outputId": "6127047f-e7e5-422c-e6ae-59ffe1041a2e",
        "colab": {
          "base_uri": "https://localhost:8080/",
          "height": 67
        }
      },
      "source": [
        "a = np.array([0, 1])\n",
        "b = np.array([9, 8])\n",
        "c = a\n",
        "print('Array a: {}'.format(repr(a)))  ##observe the format function\n",
        "c[0] = 5\n",
        "print('Array a: {}'.format(repr(a)))\n",
        "\n",
        "d = b.copy()\n",
        "d[0] = 6\n",
        "print('Array b: {}'.format(repr(b)))"
      ],
      "execution_count": 46,
      "outputs": [
        {
          "output_type": "stream",
          "text": [
            "Array a: array([0, 1])\n",
            "Array a: array([5, 1])\n",
            "Array b: array([9, 8])\n"
          ],
          "name": "stdout"
        }
      ]
    },
    {
      "cell_type": "code",
      "metadata": {
        "id": "jLTAGodda3iF",
        "colab_type": "code",
        "outputId": "e78e3372-d1a5-4d43-c240-1ae1cfe06278",
        "colab": {
          "base_uri": "https://localhost:8080/",
          "height": 50
        }
      },
      "source": [
        "arr = np.array([0,1,2])\n",
        "print(arr.dtype)\n",
        "arr = arr.astype(np.float32)\n",
        "print(repr(arr))"
      ],
      "execution_count": 47,
      "outputs": [
        {
          "output_type": "stream",
          "text": [
            "int64\n",
            "array([0., 1., 2.], dtype=float32)\n"
          ],
          "name": "stdout"
        }
      ]
    },
    {
      "cell_type": "code",
      "metadata": {
        "id": "ygEjxoyVcBRt",
        "colab_type": "code",
        "outputId": "ea4d387c-95f2-4b7f-e87b-083deb023d1b",
        "colab": {
          "base_uri": "https://localhost:8080/",
          "height": 50
        }
      },
      "source": [
        "arr = np.array([np.nan, 1, 2])\n",
        "print(repr(arr))\n",
        "\n",
        "arr = np.array([np.nan, 'abc'])\n",
        "print(repr(arr))\n",
        "\n",
        "# Will result in a ValueError\n",
        "#np.array([np.nan, 1, 2], dtype=np.int32)"
      ],
      "execution_count": 48,
      "outputs": [
        {
          "output_type": "stream",
          "text": [
            "array([nan,  1.,  2.])\n",
            "array(['nan', 'abc'], dtype='<U32')\n"
          ],
          "name": "stdout"
        }
      ]
    },
    {
      "cell_type": "code",
      "metadata": {
        "id": "I15DctS2cqQT",
        "colab_type": "code",
        "outputId": "57ea747e-c7cf-4d85-d5f8-30bf9f93618b",
        "colab": {
          "base_uri": "https://localhost:8080/",
          "height": 67
        }
      },
      "source": [
        "print(np.inf > 1000000)\n",
        "\n",
        "arr = np.array([np.inf, 5])\n",
        "print(repr(arr))\n",
        "\n",
        "arr = np.array([-np.inf, 1])\n",
        "print(repr(arr))\n",
        "\n",
        "# Will result in an OverflowError\n",
        "#np.array([np.inf, 3], dtype=np.int32)"
      ],
      "execution_count": 49,
      "outputs": [
        {
          "output_type": "stream",
          "text": [
            "True\n",
            "array([inf,  5.])\n",
            "array([-inf,   1.])\n"
          ],
          "name": "stdout"
        }
      ]
    },
    {
      "cell_type": "markdown",
      "metadata": {
        "id": "4NiPxp-KfYAI",
        "colab_type": "text"
      },
      "source": [
        "#**Exercise**"
      ]
    },
    {
      "cell_type": "code",
      "metadata": {
        "id": "OAWjdTJidA2Q",
        "colab_type": "code",
        "outputId": "f39f092d-f04c-4835-8696-3db6e75e449d",
        "colab": {
          "base_uri": "https://localhost:8080/",
          "height": 183
        }
      },
      "source": [
        "arr = np.array([np.nan,2,3,4,5])\n",
        "print(repr(arr))\n",
        "print()\n",
        "\n",
        "arr2 = arr.copy()\n",
        "arr2[0] = 10\n",
        "print(repr(arr2))\n",
        "print()\n",
        "\n",
        "float_arr = np.array( [1,5.4,3])\n",
        "print(float_arr)\n",
        "float_arr2 = arr2.astype(np.float32)  ##this will work as copy method\n",
        "print(float_arr2)\n",
        "float_arr2[0]= 12\n",
        "print(repr(arr2), repr(float_arr2))\n",
        "print()\n",
        "\n",
        "matrix = np.array([[1,2,3], [4,5,6]], dtype=np.float32)\n",
        "print(repr(matrix))"
      ],
      "execution_count": 50,
      "outputs": [
        {
          "output_type": "stream",
          "text": [
            "array([nan,  2.,  3.,  4.,  5.])\n",
            "\n",
            "array([10.,  2.,  3.,  4.,  5.])\n",
            "\n",
            "[1.  5.4 3. ]\n",
            "[10.  2.  3.  4.  5.]\n",
            "array([10.,  2.,  3.,  4.,  5.]) array([12.,  2.,  3.,  4.,  5.], dtype=float32)\n",
            "\n",
            "array([[1., 2., 3.],\n",
            "       [4., 5., 6.]], dtype=float32)\n"
          ],
          "name": "stdout"
        }
      ]
    },
    {
      "cell_type": "code",
      "metadata": {
        "id": "bHC64FptfdIn",
        "colab_type": "code",
        "outputId": "ecd88e23-68ff-4693-ecd5-b4f5be5df759",
        "colab": {
          "base_uri": "https://localhost:8080/",
          "height": 83
        }
      },
      "source": [
        "arr = np.arange(5)\n",
        "print(repr(arr))\n",
        "\n",
        "arr = np.arange(5.1)\n",
        "print(repr(arr))\n",
        "\n",
        "arr = np.arange(-1, 4)\n",
        "print(repr(arr))\n",
        "\n",
        "arr = np.arange(-1.5, 4, 2)  ##step =2\n",
        "print(repr(arr))"
      ],
      "execution_count": 51,
      "outputs": [
        {
          "output_type": "stream",
          "text": [
            "array([0, 1, 2, 3, 4])\n",
            "array([0., 1., 2., 3., 4., 5.])\n",
            "array([-1,  0,  1,  2,  3])\n",
            "array([-1.5,  0.5,  2.5])\n"
          ],
          "name": "stdout"
        }
      ]
    },
    {
      "cell_type": "markdown",
      "metadata": {
        "id": "x1VmRh-tgEpb",
        "colab_type": "text"
      },
      "source": [
        "The end of the range is inclusive for **np.linspace**, unless the keyword argument endpoint is set to False. To specify the number of elements, we set the num keyword argument (its default value is 50)"
      ]
    },
    {
      "cell_type": "code",
      "metadata": {
        "id": "wnhf6inXf09e",
        "colab_type": "code",
        "outputId": "28d4b701-6c40-4669-ee13-3a321b765c2e",
        "colab": {
          "base_uri": "https://localhost:8080/",
          "height": 83
        }
      },
      "source": [
        "arr = np.linspace(5, 11, num=4)  ##(11-5)/(4-1)\n",
        "print(repr(arr))\n",
        "\n",
        "arr = np.linspace(5, 11, num=4, endpoint=False)  ## (11-5) /4\n",
        "print(repr(arr))\n",
        "\n",
        "arr = np.linspace(3, 6, num=3, endpoint=False)\n",
        "print(repr(arr))\n",
        "\n",
        "arr = np.linspace(5, 11, num=4, dtype=np.int32)\n",
        "print(repr(arr))"
      ],
      "execution_count": 52,
      "outputs": [
        {
          "output_type": "stream",
          "text": [
            "array([ 5.,  7.,  9., 11.])\n",
            "array([5. , 6.5, 8. , 9.5])\n",
            "array([3., 4., 5.])\n",
            "array([ 5,  7,  9, 11], dtype=int32)\n"
          ],
          "name": "stdout"
        }
      ]
    },
    {
      "cell_type": "code",
      "metadata": {
        "id": "92V56E7MhfUk",
        "colab_type": "code",
        "outputId": "abf0acbf-a70d-45a9-f4b4-ab2162d05d49",
        "colab": {
          "base_uri": "https://localhost:8080/",
          "height": 200
        }
      },
      "source": [
        "arr = np.arange(8)\n",
        "\n",
        "reshaped_arr = np.reshape(arr, (2, 4))\n",
        "print(repr(reshaped_arr))\n",
        "print('New shape: {}'.format(reshaped_arr.shape))\n",
        "print()\n",
        "\n",
        "\n",
        "arr2 =  np.arange(81)\n",
        "reshaped_arr = np.reshape(arr2, (3,-1))\n",
        "print(repr(reshaped_arr))\n",
        "print('New shape: {}'.format(reshaped_arr.shape))"
      ],
      "execution_count": 53,
      "outputs": [
        {
          "output_type": "stream",
          "text": [
            "array([[0, 1, 2, 3],\n",
            "       [4, 5, 6, 7]])\n",
            "New shape: (2, 4)\n",
            "\n",
            "array([[ 0,  1,  2,  3,  4,  5,  6,  7,  8,  9, 10, 11, 12, 13, 14, 15,\n",
            "        16, 17, 18, 19, 20, 21, 22, 23, 24, 25, 26],\n",
            "       [27, 28, 29, 30, 31, 32, 33, 34, 35, 36, 37, 38, 39, 40, 41, 42,\n",
            "        43, 44, 45, 46, 47, 48, 49, 50, 51, 52, 53],\n",
            "       [54, 55, 56, 57, 58, 59, 60, 61, 62, 63, 64, 65, 66, 67, 68, 69,\n",
            "        70, 71, 72, 73, 74, 75, 76, 77, 78, 79, 80]])\n",
            "New shape: (3, 27)\n"
          ],
          "name": "stdout"
        }
      ]
    },
    {
      "cell_type": "code",
      "metadata": {
        "id": "g32k_9ZzjIX7",
        "colab_type": "code",
        "outputId": "339369cf-79cb-476c-c3e0-98be865af99c",
        "colab": {
          "base_uri": "https://localhost:8080/",
          "height": 117
        }
      },
      "source": [
        "arr = np.arange(8)\n",
        "arr = arr.reshape((2,4))\n",
        "print(repr(arr))\n",
        "print('arr shape:{}'.format(arr.shape))\n",
        "print()\n",
        "\n",
        "flattened = arr.flatten()\n",
        "print(repr(flattened))\n",
        "print('arr shape:{}'.format(flattened.shape))"
      ],
      "execution_count": 54,
      "outputs": [
        {
          "output_type": "stream",
          "text": [
            "array([[0, 1, 2, 3],\n",
            "       [4, 5, 6, 7]])\n",
            "arr shape:(2, 4)\n",
            "\n",
            "array([0, 1, 2, 3, 4, 5, 6, 7])\n",
            "arr shape:(8,)\n"
          ],
          "name": "stdout"
        }
      ]
    },
    {
      "cell_type": "code",
      "metadata": {
        "id": "hUtkzh2vjoOo",
        "colab_type": "code",
        "colab": {}
      },
      "source": [
        "?np.reshape"
      ],
      "execution_count": 0,
      "outputs": []
    },
    {
      "cell_type": "code",
      "metadata": {
        "id": "VtzMlLnZlt1q",
        "colab_type": "code",
        "outputId": "04119e1a-9c15-4e21-d651-e34cd79cb5c2",
        "colab": {
          "base_uri": "https://localhost:8080/",
          "height": 150
        }
      },
      "source": [
        "arr = np.arange(8)\n",
        "arr = np.reshape(arr, (4, 2))\n",
        "transposed = np.transpose(arr)\n",
        "print(repr(arr))\n",
        "print('arr shape: {}'.format(arr.shape))\n",
        "print(repr(transposed))\n",
        "print('transposed shape: {}'.format(transposed.shape))"
      ],
      "execution_count": 56,
      "outputs": [
        {
          "output_type": "stream",
          "text": [
            "array([[0, 1],\n",
            "       [2, 3],\n",
            "       [4, 5],\n",
            "       [6, 7]])\n",
            "arr shape: (4, 2)\n",
            "array([[0, 2, 4, 6],\n",
            "       [1, 3, 5, 7]])\n",
            "transposed shape: (2, 4)\n"
          ],
          "name": "stdout"
        }
      ]
    },
    {
      "cell_type": "code",
      "metadata": {
        "id": "clFHH1sYlzvA",
        "colab_type": "code",
        "outputId": "1977974d-3b23-4c06-d722-dbc328c0d634",
        "colab": {
          "base_uri": "https://localhost:8080/",
          "height": 50
        }
      },
      "source": [
        "arr = np.arange(24)\n",
        "arr = np.reshape(arr, (3, 4, 2))\n",
        "transposed = np.transpose(arr, axes=(1, 0, 2))\n",
        "print('arr shape: {}'.format(arr.shape))\n",
        "print('transposed shape: {}'.format(transposed.shape))\n",
        "\n",
        "#for 3-D data the default axes value is [2, 1, 0]"
      ],
      "execution_count": 57,
      "outputs": [
        {
          "output_type": "stream",
          "text": [
            "arr shape: (3, 4, 2)\n",
            "transposed shape: (4, 3, 2)\n"
          ],
          "name": "stdout"
        }
      ]
    },
    {
      "cell_type": "code",
      "metadata": {
        "id": "uPjloV6amsjF",
        "colab_type": "code",
        "outputId": "0200192a-d4f7-4351-dba8-c60b0a93a845",
        "colab": {
          "base_uri": "https://localhost:8080/",
          "height": 100
        }
      },
      "source": [
        "arr = np.zeros(4)\n",
        "print(repr(arr))\n",
        "\n",
        "arr = np.ones((2, 3))\n",
        "print(repr(arr))\n",
        "\n",
        "arr = np.ones((2, 3), dtype=np.int32)\n",
        "print(repr(arr))"
      ],
      "execution_count": 58,
      "outputs": [
        {
          "output_type": "stream",
          "text": [
            "array([0., 0., 0., 0.])\n",
            "array([[1., 1., 1.],\n",
            "       [1., 1., 1.]])\n",
            "array([[1, 1, 1],\n",
            "       [1, 1, 1]], dtype=int32)\n"
          ],
          "name": "stdout"
        }
      ]
    },
    {
      "cell_type": "code",
      "metadata": {
        "id": "XSlcly2Vm8GH",
        "colab_type": "code",
        "outputId": "ba9e3980-14bb-4c5a-d466-85b2b5ca59c0",
        "colab": {
          "base_uri": "https://localhost:8080/",
          "height": 117
        }
      },
      "source": [
        "arr = np.array([[1, 2], [3, 4]])\n",
        "print(repr(np.zeros_like(arr)))\n",
        "\n",
        "arr = np.array([[0., 1.], [1.2, 4.]])\n",
        "print(repr(np.ones_like(arr)))\n",
        "print(repr(np.ones_like(arr, dtype=np.int32)))"
      ],
      "execution_count": 59,
      "outputs": [
        {
          "output_type": "stream",
          "text": [
            "array([[0, 0],\n",
            "       [0, 0]])\n",
            "array([[1., 1.],\n",
            "       [1., 1.]])\n",
            "array([[1, 1],\n",
            "       [1, 1]], dtype=int32)\n"
          ],
          "name": "stdout"
        }
      ]
    },
    {
      "cell_type": "markdown",
      "metadata": {
        "id": "pd5dJg6-nFZn",
        "colab_type": "text"
      },
      "source": [
        "#**EXERCISE**"
      ]
    },
    {
      "cell_type": "code",
      "metadata": {
        "id": "JxO7-Ee6nJLf",
        "colab_type": "code",
        "outputId": "ea0c423c-f36a-4a81-c5b4-e48a8fbeaddd",
        "colab": {
          "base_uri": "https://localhost:8080/",
          "height": 633
        }
      },
      "source": [
        "arr = np.arange(12)\n",
        "reshaped = arr.reshape((2,3,2))\n",
        "print(repr(reshaped))\n",
        "\n",
        "flattened = reshaped.flatten()\n",
        "print(repr(flattened))\n",
        "\n",
        "transposed =  np.transpose(reshaped, axes= (1,2,0))\n",
        "print(repr(transposed))\n",
        "\n",
        "zeros_arr = np.zeros(5)\n",
        "print(repr(zeros_arr))\n",
        "\n",
        "ones_arr = np.ones_like(transposed)\n",
        "print(repr(ones_arr))\n",
        "\n",
        "points = np.linspace(-3.5 , 1.5, 101)\n",
        "print(repr(points))"
      ],
      "execution_count": 60,
      "outputs": [
        {
          "output_type": "stream",
          "text": [
            "array([[[ 0,  1],\n",
            "        [ 2,  3],\n",
            "        [ 4,  5]],\n",
            "\n",
            "       [[ 6,  7],\n",
            "        [ 8,  9],\n",
            "        [10, 11]]])\n",
            "array([ 0,  1,  2,  3,  4,  5,  6,  7,  8,  9, 10, 11])\n",
            "array([[[ 0,  6],\n",
            "        [ 1,  7]],\n",
            "\n",
            "       [[ 2,  8],\n",
            "        [ 3,  9]],\n",
            "\n",
            "       [[ 4, 10],\n",
            "        [ 5, 11]]])\n",
            "array([0., 0., 0., 0., 0.])\n",
            "array([[[1, 1],\n",
            "        [1, 1]],\n",
            "\n",
            "       [[1, 1],\n",
            "        [1, 1]],\n",
            "\n",
            "       [[1, 1],\n",
            "        [1, 1]]])\n",
            "array([-3.5 , -3.45, -3.4 , -3.35, -3.3 , -3.25, -3.2 , -3.15, -3.1 ,\n",
            "       -3.05, -3.  , -2.95, -2.9 , -2.85, -2.8 , -2.75, -2.7 , -2.65,\n",
            "       -2.6 , -2.55, -2.5 , -2.45, -2.4 , -2.35, -2.3 , -2.25, -2.2 ,\n",
            "       -2.15, -2.1 , -2.05, -2.  , -1.95, -1.9 , -1.85, -1.8 , -1.75,\n",
            "       -1.7 , -1.65, -1.6 , -1.55, -1.5 , -1.45, -1.4 , -1.35, -1.3 ,\n",
            "       -1.25, -1.2 , -1.15, -1.1 , -1.05, -1.  , -0.95, -0.9 , -0.85,\n",
            "       -0.8 , -0.75, -0.7 , -0.65, -0.6 , -0.55, -0.5 , -0.45, -0.4 ,\n",
            "       -0.35, -0.3 , -0.25, -0.2 , -0.15, -0.1 , -0.05,  0.  ,  0.05,\n",
            "        0.1 ,  0.15,  0.2 ,  0.25,  0.3 ,  0.35,  0.4 ,  0.45,  0.5 ,\n",
            "        0.55,  0.6 ,  0.65,  0.7 ,  0.75,  0.8 ,  0.85,  0.9 ,  0.95,\n",
            "        1.  ,  1.05,  1.1 ,  1.15,  1.2 ,  1.25,  1.3 ,  1.35,  1.4 ,\n",
            "        1.45,  1.5 ])\n"
          ],
          "name": "stdout"
        }
      ]
    },
    {
      "cell_type": "code",
      "metadata": {
        "id": "hSVvigcFoll6",
        "colab_type": "code",
        "outputId": "9528db6b-8049-431a-8ba6-afbabce99cf8",
        "colab": {
          "base_uri": "https://localhost:8080/",
          "height": 283
        }
      },
      "source": [
        "arr = np.array([[1, 2], [3, 4]])\n",
        "print(repr(arr))\n",
        "# Add 1 to element values\n",
        "print(repr(arr + 1))\n",
        "# Subtract element values by 1.2\n",
        "print(repr(arr - 1.2))\n",
        "# Double element values\n",
        "print(repr(arr * 2))\n",
        "# Halve element values\n",
        "print(repr(arr / 2))\n",
        "# Integer division (half)\n",
        "print(repr(arr // 2))\n",
        "# Square element values\n",
        "print(repr(arr**2))\n",
        "# Square root element values\n",
        "print(repr(arr**0.5))"
      ],
      "execution_count": 61,
      "outputs": [
        {
          "output_type": "stream",
          "text": [
            "array([[1, 2],\n",
            "       [3, 4]])\n",
            "array([[2, 3],\n",
            "       [4, 5]])\n",
            "array([[-0.2,  0.8],\n",
            "       [ 1.8,  2.8]])\n",
            "array([[2, 4],\n",
            "       [6, 8]])\n",
            "array([[0.5, 1. ],\n",
            "       [1.5, 2. ]])\n",
            "array([[0, 1],\n",
            "       [1, 2]])\n",
            "array([[ 1,  4],\n",
            "       [ 9, 16]])\n",
            "array([[1.        , 1.41421356],\n",
            "       [1.73205081, 2.        ]])\n"
          ],
          "name": "stdout"
        }
      ]
    },
    {
      "cell_type": "code",
      "metadata": {
        "id": "vtiimjOwpAGv",
        "colab_type": "code",
        "outputId": "1d6677d7-85a7-461c-eaed-5637094a2739",
        "colab": {
          "base_uri": "https://localhost:8080/",
          "height": 33
        }
      },
      "source": [
        "def f2c(temps):\n",
        "  return (5/9)*(temps-32)\n",
        "\n",
        "fahrenheits = np.array([32, -4, 14, -40])\n",
        "celsius = f2c(fahrenheits)\n",
        "print('Celsius: {}'.format(repr(celsius)))"
      ],
      "execution_count": 62,
      "outputs": [
        {
          "output_type": "stream",
          "text": [
            "Celsius: array([  0., -20., -10., -40.])\n"
          ],
          "name": "stdout"
        }
      ]
    },
    {
      "cell_type": "code",
      "metadata": {
        "id": "NjsUBWhdpix5",
        "colab_type": "code",
        "outputId": "28b08aeb-0bea-45da-ba17-f1a11c86cd06",
        "colab": {
          "base_uri": "https://localhost:8080/",
          "height": 183
        }
      },
      "source": [
        "arr = np.array([[1, 2], [3, 4]])\n",
        "# Raised to power of e\n",
        "print(repr(np.exp(arr)))\n",
        "# Raised to power of 2\n",
        "print(repr(np.exp2(arr)))\n",
        "\n",
        "arr2 = np.array([[1, 10], [np.e, np.pi]])\n",
        "print(repr(arr2))\n",
        "# Natural logarithm\n",
        "print(repr(np.log(arr2)))\n",
        "# Base 10 logarithm\n",
        "print(repr(np.log10(arr2)))"
      ],
      "execution_count": 63,
      "outputs": [
        {
          "output_type": "stream",
          "text": [
            "array([[ 2.71828183,  7.3890561 ],\n",
            "       [20.08553692, 54.59815003]])\n",
            "array([[ 2.,  4.],\n",
            "       [ 8., 16.]])\n",
            "array([[ 1.        , 10.        ],\n",
            "       [ 2.71828183,  3.14159265]])\n",
            "array([[0.        , 2.30258509],\n",
            "       [1.        , 1.14472989]])\n",
            "array([[0.        , 1.        ],\n",
            "       [0.43429448, 0.49714987]])\n"
          ],
          "name": "stdout"
        }
      ]
    },
    {
      "cell_type": "code",
      "metadata": {
        "id": "VkQEfStEp09F",
        "colab_type": "code",
        "outputId": "482e1ece-d209-4b33-9b45-8935c1536221",
        "colab": {
          "base_uri": "https://localhost:8080/",
          "height": 117
        }
      },
      "source": [
        "arr = np.array([[1, 2], [3, 4]])\n",
        "# Raise 3 to power of each number in arr\n",
        "print(repr(np.power(3, arr)))\n",
        "arr2 = np.array([[10.2, 4], [3, 5]])\n",
        "\n",
        "print(repr(np.power(arr,3)))\n",
        "arr2 = np.array([[10.2, 4], [3, 5]])\n",
        "\n",
        "\n",
        "# Raise arr2 to power of each number in arr\n",
        "print(repr(np.power(arr2, arr)))"
      ],
      "execution_count": 65,
      "outputs": [
        {
          "output_type": "stream",
          "text": [
            "array([[ 3,  9],\n",
            "       [27, 81]])\n",
            "array([[ 1,  8],\n",
            "       [27, 64]])\n",
            "array([[ 10.2,  16. ],\n",
            "       [ 27. , 625. ]])\n"
          ],
          "name": "stdout"
        }
      ]
    },
    {
      "cell_type": "code",
      "metadata": {
        "id": "47ztRCDFqVtD",
        "colab_type": "code",
        "colab": {
          "base_uri": "https://localhost:8080/",
          "height": 117
        },
        "outputId": "96234bf6-8072-40f3-e092-1d7ce9dab9e4"
      },
      "source": [
        "arr1 = np.array([1, 2, 3])\n",
        "arr2 = np.array([-3, 0, 10])\n",
        "print(np.matmul(arr1, arr2))  ##dot product\n",
        "\n",
        "arr3 = np.array([[1, 2], [3, 4], [5, 6]])\n",
        "arr4 = np.array([[-1, 0, 1], [3, 2, -4]])\n",
        "print(repr(np.matmul(arr3, arr4)))  \n",
        "print(repr(np.matmul(arr4, arr3)))\n",
        "\n",
        "# This will result in ValueError\n",
        "#print(repr(np.matmul(arr3, arr3)))  ##must follow matrix multiplication rule"
      ],
      "execution_count": 68,
      "outputs": [
        {
          "output_type": "stream",
          "text": [
            "27\n",
            "array([[  5,   4,  -7],\n",
            "       [  9,   8, -13],\n",
            "       [ 13,  12, -19]])\n",
            "array([[  4,   4],\n",
            "       [-11, -10]])\n"
          ],
          "name": "stdout"
        }
      ]
    },
    {
      "cell_type": "markdown",
      "metadata": {
        "id": "FWeiVCNsVMds",
        "colab_type": "text"
      },
      "source": [
        "#**EXERCISE**\n"
      ]
    },
    {
      "cell_type": "code",
      "metadata": {
        "id": "ejBDqLPzVFW0",
        "colab_type": "code",
        "colab": {
          "base_uri": "https://localhost:8080/",
          "height": 300
        },
        "outputId": "33a7ae45-26d6-4467-8ed5-2f387749c869"
      },
      "source": [
        "arr =  np.array([[-0.5, 0.8, -0.1],[0.0,-1.2,1.3]])\n",
        "arr2 = np.array ([[1.2,3.1], [1.2,0.3],[1.5,2.2]])\n",
        "\n",
        "multiplied = arr * np.pi\n",
        "print(repr(multiplied))\n",
        "print()\n",
        "\n",
        "added = arr+ multiplied\n",
        "print(repr(added))\n",
        "#print(repr(np.sum((arr,multiplied), axis=1))) #observe the axis parameter\n",
        "\n",
        "squared= np.power(added, 2)\n",
        "print(repr(squared))\n",
        "\n",
        "exponential = np.exp(squared)\n",
        "print(repr(exponential))\n",
        "\n",
        "logged = np.log(arr2)\n",
        "print(repr(logged))\n",
        "\n",
        "matmul1 = np.matmul(logged, exponential)\n",
        "print(repr(matmul1))\n",
        "\n",
        "matmul2= np.matmul(exponential, logged)\n",
        "print(repr(matmul2))"
      ],
      "execution_count": 82,
      "outputs": [
        {
          "output_type": "stream",
          "text": [
            "array([[-1.57079633,  2.51327412, -0.31415927],\n",
            "       [ 0.        , -3.76991118,  4.08407045]])\n",
            "\n",
            "array([[-2.07079633,  3.31327412, -0.41415927],\n",
            "       [ 0.        , -4.96991118,  5.38407045]])\n",
            "array([[ 4.28819743, 10.97778541,  0.1715279 ],\n",
            "       [ 0.        , 24.70001718, 28.98821461]])\n",
            "array([[7.28350596e+01, 5.85587272e+04, 1.18711726e+00],\n",
            "       [1.00000000e+00, 5.33434578e+10, 3.88527393e+12]])\n",
            "array([[ 0.18232156,  1.13140211],\n",
            "       [ 0.18232156, -1.2039728 ],\n",
            "       [ 0.40546511,  0.78845736]])\n",
            "array([[ 1.44108036e+01,  6.03529115e+10,  4.39580713e+12],\n",
            "       [ 1.20754286e+01, -6.42240618e+10, -4.67776415e+12],\n",
            "       [ 3.03205327e+01,  4.20590657e+10,  3.06337283e+12]])\n",
            "array([[ 1.06902790e+04, -7.04197733e+04],\n",
            "       [ 1.58506868e+12,  2.99914875e+12]])\n"
          ],
          "name": "stdout"
        }
      ]
    },
    {
      "cell_type": "code",
      "metadata": {
        "id": "vV7Dz1gsYvwC",
        "colab_type": "code",
        "colab": {
          "base_uri": "https://localhost:8080/",
          "height": 100
        },
        "outputId": "f71df2b0-32b9-4d96-f142-d38758b7f263"
      },
      "source": [
        "print(np.random.randint(5))  ## 5 is exclusive\n",
        "print(np.random.randint(5))\n",
        "print(np.random.randint(5, high=6)) ##makes 5 inclusive\n",
        "\n",
        "random_arr = np.random.randint(-3, high=14,\n",
        "                               size=(2, 2))\n",
        "print(repr(random_arr))"
      ],
      "execution_count": 84,
      "outputs": [
        {
          "output_type": "stream",
          "text": [
            "4\n",
            "4\n",
            "5\n",
            "array([[-1,  9],\n",
            "       [-2,  7]])\n"
          ],
          "name": "stdout"
        }
      ]
    },
    {
      "cell_type": "code",
      "metadata": {
        "id": "hG5aYhg6ZJaB",
        "colab_type": "code",
        "colab": {
          "base_uri": "https://localhost:8080/",
          "height": 167
        },
        "outputId": "8e194532-3962-4bcb-95cf-a2d0323081e2"
      },
      "source": [
        "np.random.seed(1)\n",
        "print(np.random.randint(10))\n",
        "random_arr = np.random.randint(3, high=100,\n",
        "                               size=(2, 2))\n",
        "print(repr(random_arr))\n",
        "\n",
        "# New seed\n",
        "np.random.seed(2)\n",
        "print(np.random.randint(10))\n",
        "random_arr = np.random.randint(3, high=100,\n",
        "                               size=(2, 2))\n",
        "print(repr(random_arr))\n",
        "\n",
        "# Original seed\n",
        "np.random.seed(1)\n",
        "print(np.random.randint(10))\n",
        "random_arr = np.random.randint(3, high=100,\n",
        "                               size=(2, 2))\n",
        "print(repr(random_arr))"
      ],
      "execution_count": 87,
      "outputs": [
        {
          "output_type": "stream",
          "text": [
            "5\n",
            "array([[15, 75],\n",
            "       [12, 78]])\n",
            "8\n",
            "array([[18, 75],\n",
            "       [25, 46]])\n",
            "5\n",
            "array([[15, 75],\n",
            "       [12, 78]])\n"
          ],
          "name": "stdout"
        }
      ]
    },
    {
      "cell_type": "code",
      "metadata": {
        "id": "gZFgE7qSZiDC",
        "colab_type": "code",
        "colab": {
          "base_uri": "https://localhost:8080/",
          "height": 100
        },
        "outputId": "0ba02101-e24d-4512-c08c-8e720d69409f"
      },
      "source": [
        "vec = np.array([1, 2, 3, 4, 5])\n",
        "np.random.shuffle(vec)\n",
        "print(repr(vec))\n",
        "np.random.shuffle(vec)\n",
        "print(repr(vec))\n",
        "\n",
        "matrix = np.array([[1, 2, 3],\n",
        "                   [4, 5, 6],\n",
        "                   [7, 8, 9]])\n",
        "np.random.shuffle(matrix)  \n",
        "#shuffling multi-dimensional arrays only shuffles the first dimension.\n",
        "print(repr(matrix))"
      ],
      "execution_count": 89,
      "outputs": [
        {
          "output_type": "stream",
          "text": [
            "array([2, 5, 4, 1, 3])\n",
            "array([1, 2, 4, 5, 3])\n",
            "array([[7, 8, 9],\n",
            "       [4, 5, 6],\n",
            "       [1, 2, 3]])\n"
          ],
          "name": "stdout"
        }
      ]
    },
    {
      "cell_type": "code",
      "metadata": {
        "id": "l5oF2ILLZ-Bj",
        "colab_type": "code",
        "colab": {
          "base_uri": "https://localhost:8080/",
          "height": 183
        },
        "outputId": "c8593f56-414e-4b25-c7e7-e0ee436107e6"
      },
      "source": [
        "print(np.random.uniform())\n",
        "print(np.random.uniform(low=-1.5, high=2.2))  \n",
        "#the low and high represent inclusive lower end and exclusive upper end\n",
        "#default values of 0.0 and 1.0 \n",
        "print(repr(np.random.uniform(size=3)))\n",
        "print(repr(np.random.uniform(low=-3.4, high=5.9,\n",
        "                             size=(2, 2))))\n",
        "print()\n",
        "##Normal (Gaussian distribution)\n",
        "print(np.random.normal())\n",
        "print(np.random.normal(loc=1.5, scale=3.5))\n",
        "#loc and scale keyword arguments represent the mean and standard deviation\n",
        "print(repr(np.random.normal(loc=-2.4, scale=4.0,\n",
        "                            size=(2, 2))))\n",
        "\n",
        "#Some more inbuilt functions https://docs.scipy.org/doc/numpy-1.14.1/reference/routines.random.html"
      ],
      "execution_count": 94,
      "outputs": [
        {
          "output_type": "stream",
          "text": [
            "0.5384246942799851\n",
            "0.9135058636351059\n",
            "array([0.36126102, 0.57100856, 0.63783648])\n",
            "array([[-2.22527157,  3.01890267],\n",
            "       [ 2.62406942, -0.10836647]])\n",
            "\n",
            "-0.6845402495469102\n",
            "5.8959381420206975\n",
            "array([[-0.41309458, -1.08289679],\n",
            "       [-2.40475963, -3.6291705 ]])\n"
          ],
          "name": "stdout"
        }
      ]
    },
    {
      "cell_type": "code",
      "metadata": {
        "id": "xgZo4EUua6YP",
        "colab_type": "code",
        "colab": {
          "base_uri": "https://localhost:8080/",
          "height": 100
        },
        "outputId": "8fbbe3ad-7dd0-4fed-fff9-6e84cf9b1c92"
      },
      "source": [
        "colors = ['red', 'blue', 'green']\n",
        "print(np.random.choice(colors))\n",
        "print(repr(np.random.choice(colors, size=10)))\n",
        "print(repr(np.random.choice(colors, size=(2, 2),\n",
        "                            p=[0.8, 0.19, 0.01])))\n",
        "#p keyword argument denotes the probabilities given to each element"
      ],
      "execution_count": 96,
      "outputs": [
        {
          "output_type": "stream",
          "text": [
            "green\n",
            "array(['green', 'red', 'green', 'blue', 'blue', 'green', 'red', 'green',\n",
            "       'red', 'green'], dtype='<U5')\n",
            "array([['blue', 'red'],\n",
            "       ['blue', 'red']], dtype='<U5')\n"
          ],
          "name": "stdout"
        }
      ]
    },
    {
      "cell_type": "markdown",
      "metadata": {
        "id": "djU1yn6mb65h",
        "colab_type": "text"
      },
      "source": [
        "#**EXERCISE**\n"
      ]
    },
    {
      "cell_type": "code",
      "metadata": {
        "id": "wj50xaqKcDdJ",
        "colab_type": "code",
        "colab": {
          "base_uri": "https://localhost:8080/",
          "height": 133
        },
        "outputId": "e66db7ad-8bed-426b-d1fd-c5d01d16513e"
      },
      "source": [
        "random1 = np.random.randint(5)\n",
        "print(repr(random1))\n",
        "\n",
        "random_arr = np.random.randint(2, high=10, size= (3,5))\n",
        "print(repr(random_arr))\n",
        "\n",
        "random_uniform = np.random.uniform(low=-2.5,high=1.5, size=5)\n",
        "#print(random_uniform)\n",
        "\n",
        "random_norm = np.random.normal (loc= 2.0, scale= 3.5, size=(10,5))\n",
        "\n",
        "choices = ['a', 'b', 'c', 'd']\n",
        "choice = np.random.choice(choices, p=[0.5, 0.1, 0.2, 0.2])\n",
        "print(repr(choice))\n",
        "\n",
        "arr= np.arange(1,6)\n",
        "print(repr(arr))\n",
        "np.random.shuffle(arr)\n",
        "print(repr(arr))"
      ],
      "execution_count": 112,
      "outputs": [
        {
          "output_type": "stream",
          "text": [
            "1\n",
            "array([[3, 6, 7, 3, 6],\n",
            "       [2, 8, 7, 5, 7],\n",
            "       [2, 2, 7, 8, 8]])\n",
            "'c'\n",
            "array([1, 2, 3, 4, 5])\n",
            "array([4, 1, 3, 5, 2])\n"
          ],
          "name": "stdout"
        }
      ]
    },
    {
      "cell_type": "code",
      "metadata": {
        "id": "aNOeO28Vfx_v",
        "colab_type": "code",
        "colab": {
          "base_uri": "https://localhost:8080/",
          "height": 67
        },
        "outputId": "0e3cb051-d7b8-46b9-da1a-b30feea02b07"
      },
      "source": [
        "arr = np.array([1, 2, 3, 4, 5])\n",
        "print(arr[0])\n",
        "print(arr[4])\n",
        "\n",
        "arr = np.array([[6, 3], [0, 2]])\n",
        "# Subarray\n",
        "print(repr(arr[0]))"
      ],
      "execution_count": 113,
      "outputs": [
        {
          "output_type": "stream",
          "text": [
            "1\n",
            "5\n",
            "array([6, 3])\n"
          ],
          "name": "stdout"
        }
      ]
    },
    {
      "cell_type": "code",
      "metadata": {
        "id": "fWgyOe-xgB5F",
        "colab_type": "code",
        "colab": {
          "base_uri": "https://localhost:8080/",
          "height": 100
        },
        "outputId": "4c76318c-e041-4764-e2f0-8d9e485854ab"
      },
      "source": [
        "arr = np.array([1, 2, 3, 4, 5])\n",
        "print(repr(arr[:]))  ##all values\n",
        "print(repr(arr[1:])) ##2 to all\n",
        "print(repr(arr[2:4])) ##3, 4\n",
        "print(repr(arr[:-1]))  ##1 to 4\n",
        "print(repr(arr[-2:]))  ##4 to all : got this wrong"
      ],
      "execution_count": 116,
      "outputs": [
        {
          "output_type": "stream",
          "text": [
            "array([1, 2, 3, 4, 5])\n",
            "array([2, 3, 4, 5])\n",
            "array([3, 4])\n",
            "array([1, 2, 3, 4])\n",
            "array([4, 5])\n"
          ],
          "name": "stdout"
        }
      ]
    },
    {
      "cell_type": "code",
      "metadata": {
        "id": "IGZ30YnEgddX",
        "colab_type": "code",
        "colab": {
          "base_uri": "https://localhost:8080/",
          "height": 200
        },
        "outputId": "ffc6f140-693d-4951-88e8-b8d19f5f4302"
      },
      "source": [
        "arr = np.array([[1, 2, 3],\n",
        "                [4, 5, 6],\n",
        "                [7, 8, 9]])\n",
        "print(repr(arr[:]))  ##all\n",
        "print(repr(arr[1:])) ##1st row  ##got this wrong\n",
        "print(repr(arr[:, -1]))  ##all rows, last column\n",
        "print(repr(arr[:, 1:]))  ##all rows; 2 and 3 columns\n",
        "print(repr(arr[0:1, 1:])) ##first row; 2,3 columns\n",
        "print(repr(arr[0, 1:]))  ##first row,  2,3 columns"
      ],
      "execution_count": 118,
      "outputs": [
        {
          "output_type": "stream",
          "text": [
            "array([[1, 2, 3],\n",
            "       [4, 5, 6],\n",
            "       [7, 8, 9]])\n",
            "array([[4, 5, 6],\n",
            "       [7, 8, 9]])\n",
            "array([3, 6, 9])\n",
            "array([[2, 3],\n",
            "       [5, 6],\n",
            "       [8, 9]])\n",
            "array([[2, 3]])\n",
            "array([2, 3])\n"
          ],
          "name": "stdout"
        }
      ]
    },
    {
      "cell_type": "code",
      "metadata": {
        "id": "LWNgZ2NihXHI",
        "colab_type": "code",
        "colab": {
          "base_uri": "https://localhost:8080/",
          "height": 150
        },
        "outputId": "772b0eb3-43cf-43a2-b7c6-feca65c4d98f"
      },
      "source": [
        "arr = np.array([[-2, -1, -3],\n",
        "                [4, 5, -6],\n",
        "                [-3, 9, 1]])\n",
        "\n",
        "print(arr[0])\n",
        "print(np.argmin(arr[0]))\n",
        "print(np.argmax(arr[2]))\n",
        "print(np.argmin(arr))\n",
        "print()\n",
        "arr = np.array([[-2, -1, -3],\n",
        "                [4, 5, -6],\n",
        "                [-3, 9, 1]])\n",
        "print(repr(np.argmin(arr, axis=0)))  ## column wise\n",
        "print(repr(np.argmin(arr, axis=1)))  ##row wise\n",
        "print(repr(np.argmax(arr, axis=-1)))  ## axis=-1 is equivalent to axis=1"
      ],
      "execution_count": 122,
      "outputs": [
        {
          "output_type": "stream",
          "text": [
            "[-2 -1 -3]\n",
            "2\n",
            "1\n",
            "5\n",
            "\n",
            "array([2, 0, 1])\n",
            "array([2, 2, 0])\n",
            "array([2, 2, 0])\n"
          ],
          "name": "stdout"
        }
      ]
    },
    {
      "cell_type": "markdown",
      "metadata": {
        "id": "re-CvWMKitwd",
        "colab_type": "text"
      },
      "source": [
        "#**EXERCISE**"
      ]
    },
    {
      "cell_type": "code",
      "metadata": {
        "id": "yH14uoiDiyVc",
        "colab_type": "code",
        "colab": {}
      },
      "source": [
        "def direct_index(data):\n",
        "  # CODE HERE\n",
        "  elem = data[1,2]\n",
        "  return elem\n",
        "\n",
        "def slice_data(data):\n",
        "  slice1 = data[:,1:]\n",
        "  slice2 = data[:3,:-2]\n",
        "  return(slice1, slice2)\n",
        "\n",
        "def argmin_data(data):\n",
        "  argmin_all= np.argmin(data)\n",
        "  argmin1 = np.argmin(data, axis=1)\n",
        "  return (argmin_all,argmin1)\n",
        "\n",
        "def argmax_data(data):\n",
        "  argmax_neg1= np.argmax(data, axis=-1)\n",
        "  return argmax_neg1"
      ],
      "execution_count": 0,
      "outputs": []
    },
    {
      "cell_type": "code",
      "metadata": {
        "id": "PRng_WRvloSI",
        "colab_type": "code",
        "colab": {
          "base_uri": "https://localhost:8080/",
          "height": 217
        },
        "outputId": "e5ab0158-7258-4d6e-b684-3f000f61aa57"
      },
      "source": [
        "arr = np.array([[0, 2, 3],\n",
        "                [1, 3, -6],\n",
        "                [-3, -2, 1]])\n",
        "print(repr(arr == 3))\n",
        "print(repr(arr > 0))\n",
        "print(repr(arr != 1))\n",
        "# Negated from the previous step\n",
        "print(repr(~(arr != 1)))"
      ],
      "execution_count": 124,
      "outputs": [
        {
          "output_type": "stream",
          "text": [
            "array([[False, False,  True],\n",
            "       [False,  True, False],\n",
            "       [False, False, False]])\n",
            "array([[False,  True,  True],\n",
            "       [ True,  True, False],\n",
            "       [False, False,  True]])\n",
            "array([[ True,  True,  True],\n",
            "       [False,  True,  True],\n",
            "       [ True,  True, False]])\n",
            "array([[False, False, False],\n",
            "       [ True, False, False],\n",
            "       [False, False,  True]])\n"
          ],
          "name": "stdout"
        }
      ]
    },
    {
      "cell_type": "code",
      "metadata": {
        "id": "ocKdv_rll5Xz",
        "colab_type": "code",
        "colab": {
          "base_uri": "https://localhost:8080/",
          "height": 67
        },
        "outputId": "c0988115-e7d3-45c9-bb75-d3a4c7b4d803"
      },
      "source": [
        "arr = np.array([[0, 2, np.nan],\n",
        "                [1, np.nan, -6],\n",
        "                [np.nan, -2, 1]])\n",
        "print(repr(np.isnan(arr)))"
      ],
      "execution_count": 125,
      "outputs": [
        {
          "output_type": "stream",
          "text": [
            "array([[False, False,  True],\n",
            "       [False,  True, False],\n",
            "       [ True, False, False]])\n"
          ],
          "name": "stdout"
        }
      ]
    },
    {
      "cell_type": "code",
      "metadata": {
        "id": "bk_5aHqNmDMV",
        "colab_type": "code",
        "colab": {
          "base_uri": "https://localhost:8080/",
          "height": 100
        },
        "outputId": "7401b21a-25ea-4ef5-e4ff-371f93db4eb9"
      },
      "source": [
        "print(repr(np.where([True, False, True])))\n",
        "\n",
        "arr = np.array([0, 3, 5, 3, 1])\n",
        "print(repr(np.where(arr == 3)))\n",
        "\n",
        "arr = np.array([[0, 2, 3],\n",
        "                [1, 0, 0],\n",
        "                [-3, 0, 0]])\n",
        "x_ind, y_ind = np.where(arr != 0)\n",
        "print(repr(x_ind)) # x indices of non-zero elements\n",
        "print(repr(y_ind)) # y indices of non-zero elements\n",
        "print(repr(arr[x_ind, y_ind]))"
      ],
      "execution_count": 126,
      "outputs": [
        {
          "output_type": "stream",
          "text": [
            "(array([0, 2]),)\n",
            "(array([1, 3]),)\n",
            "array([0, 0, 1, 2])\n",
            "array([1, 2, 0, 0])\n",
            "array([ 2,  3,  1, -3])\n"
          ],
          "name": "stdout"
        }
      ]
    },
    {
      "cell_type": "code",
      "metadata": {
        "id": "jM3PVKvVmfiU",
        "colab_type": "code",
        "colab": {
          "base_uri": "https://localhost:8080/",
          "height": 117
        },
        "outputId": "0eb6a3d6-edf4-4d04-be81-05d883fcfec6"
      },
      "source": [
        "np_filter = np.array([[True, False], [False, True]])\n",
        "positives = np.array([[1, 2], [3, 4]])\n",
        "negatives = np.array([[-2, -5], [-1, -8]])\n",
        "print(repr(np.where(np_filter, positives, negatives)))\n",
        "\n",
        "#When we use 3 arguments, the first argument is still the boolean array. \n",
        "#However, the next two arguments represent the True replacement values and \n",
        "#the False replacement values, respectively. The output of the function now \n",
        "#becomes an array with the same shape as the first argument.\n",
        "\n",
        "np_filter = positives > 2\n",
        "print(repr(np.where(np_filter, positives, negatives)))\n",
        "\n",
        "np_filter = negatives > 0\n",
        "print(repr(np.where(np_filter, positives, negatives)))"
      ],
      "execution_count": 127,
      "outputs": [
        {
          "output_type": "stream",
          "text": [
            "array([[ 1, -5],\n",
            "       [-1,  4]])\n",
            "array([[-2, -5],\n",
            "       [ 3,  4]])\n",
            "array([[-2, -5],\n",
            "       [-1, -8]])\n"
          ],
          "name": "stdout"
        }
      ]
    },
    {
      "cell_type": "code",
      "metadata": {
        "id": "dDJXIFPvn9Fa",
        "colab_type": "code",
        "colab": {
          "base_uri": "https://localhost:8080/",
          "height": 50
        },
        "outputId": "50686989-831c-4bc4-e85c-93aedcdb1f75"
      },
      "source": [
        "#if we wanted to use a constant replacement value, e.g. -1, \n",
        "#we could incorporate broadcasting\n",
        "\n",
        "np_filter = np.array([[True, False], [False, True]])\n",
        "positives = np.array([[1, 2], [3, 4]])\n",
        "print(repr(np.where(np_filter, positives, -1)))"
      ],
      "execution_count": 128,
      "outputs": [
        {
          "output_type": "stream",
          "text": [
            "array([[ 1, -1],\n",
            "       [-1,  4]])\n"
          ],
          "name": "stdout"
        }
      ]
    },
    {
      "cell_type": "code",
      "metadata": {
        "id": "UH1ClHAToIcB",
        "colab_type": "code",
        "colab": {
          "base_uri": "https://localhost:8080/",
          "height": 100
        },
        "outputId": "22af3cd4-078f-4ee4-e015-8f49ec25646b"
      },
      "source": [
        "arr = np.array([[-2, -1, -3],\n",
        "                [4, 5, -6],\n",
        "                [3, 9, 1]])\n",
        "print(repr(arr > 0))\n",
        "print(np.any(arr > 0))\n",
        "print(np.all(arr > 0))"
      ],
      "execution_count": 129,
      "outputs": [
        {
          "output_type": "stream",
          "text": [
            "array([[False, False, False],\n",
            "       [ True,  True, False],\n",
            "       [ True,  True,  True]])\n",
            "True\n",
            "False\n"
          ],
          "name": "stdout"
        }
      ]
    },
    {
      "cell_type": "code",
      "metadata": {
        "id": "KVTHgIueosVB",
        "colab_type": "code",
        "colab": {
          "base_uri": "https://localhost:8080/",
          "height": 117
        },
        "outputId": "75fb83e7-a976-4645-e957-6ded82665b16"
      },
      "source": [
        "arr = np.array([[-2, -1, -3],\n",
        "                [4, 5, -6],\n",
        "                [3, 9, 1]])\n",
        "print(repr(arr > 0))\n",
        "print(repr(np.any(arr > 0, axis=0)))\n",
        "print(repr(np.any(arr > 0, axis=1)))\n",
        "print(repr(np.all(arr > 0, axis=1)))"
      ],
      "execution_count": 130,
      "outputs": [
        {
          "output_type": "stream",
          "text": [
            "array([[False, False, False],\n",
            "       [ True,  True, False],\n",
            "       [ True,  True,  True]])\n",
            "array([ True,  True,  True])\n",
            "array([False,  True,  True])\n",
            "array([False, False,  True])\n"
          ],
          "name": "stdout"
        }
      ]
    },
    {
      "cell_type": "code",
      "metadata": {
        "id": "tY2uWBKeo3NR",
        "colab_type": "code",
        "colab": {
          "base_uri": "https://localhost:8080/",
          "height": 67
        },
        "outputId": "1552dc04-e931-4903-9d6c-42835c270bdf"
      },
      "source": [
        "arr = np.array([[-2, -1, -3],\n",
        "                [4, 5, -6],\n",
        "                [3, 9, 1]])\n",
        "has_positive = np.any(arr > 0, axis=1)\n",
        "print(has_positive)\n",
        "print(repr(arr[np.where(has_positive)]))"
      ],
      "execution_count": 131,
      "outputs": [
        {
          "output_type": "stream",
          "text": [
            "[False  True  True]\n",
            "array([[ 4,  5, -6],\n",
            "       [ 3,  9,  1]])\n"
          ],
          "name": "stdout"
        }
      ]
    },
    {
      "cell_type": "markdown",
      "metadata": {
        "id": "zAbI5jodpSSJ",
        "colab_type": "text"
      },
      "source": [
        "#**EXERCISE**"
      ]
    },
    {
      "cell_type": "code",
      "metadata": {
        "id": "qzrC_MLYpU2W",
        "colab_type": "code",
        "colab": {}
      },
      "source": [
        "def get_positives(data):\n",
        "  x_ind, y_ind = np.where(data>0)\n",
        "  return data[x_ind,y_ind] \n",
        "\n",
        "##REPLACING ZEROS IN AN ARRAY\n",
        "def replace_zeros(data):\n",
        "  zeros = np.zeros_like(data)\n",
        "  zero_replace = np.where(data>0, data, zeros)\n",
        "  return zero_replace\n",
        "\n",
        "def replace_neg_one(data):\n",
        "  neg_one_replace = np.where(data>0, data, -1)\n",
        "  return neg_one_replace\n",
        "\n",
        "def coin_flip_filter(data):\n",
        "  coin_flips=np.random.randint(2, size=data.shape)\n",
        "  bool_coin_flips = coin_flips.astype(np.bool)\n",
        "  one_replace = np.where(bool_coin_flips, data, 1)\n",
        "  return one_replace\n",
        "\n",
        "\n"
      ],
      "execution_count": 0,
      "outputs": []
    },
    {
      "cell_type": "code",
      "metadata": {
        "id": "STvsDl1OptMQ",
        "colab_type": "code",
        "colab": {
          "base_uri": "https://localhost:8080/",
          "height": 83
        },
        "outputId": "98fd71ee-040d-4924-8b2e-9f4075f7820f"
      },
      "source": [
        "arr = np.array([[0, 72, 3],\n",
        "                [1, 3, -60],\n",
        "                [-3, -2, 4]])\n",
        "print(arr.min())\n",
        "print(arr.max())\n",
        "\n",
        "print(repr(arr.min(axis=0)))\n",
        "print(repr(arr.max(axis=-1)))\n"
      ],
      "execution_count": 136,
      "outputs": [
        {
          "output_type": "stream",
          "text": [
            "-60\n",
            "72\n",
            "array([ -3,  -2, -60])\n",
            "array([72,  3,  4])\n"
          ],
          "name": "stdout"
        }
      ]
    },
    {
      "cell_type": "code",
      "metadata": {
        "id": "R9-73h_8qXYz",
        "colab_type": "code",
        "colab": {
          "base_uri": "https://localhost:8080/",
          "height": 83
        },
        "outputId": "afbfbc00-112c-4c2d-f91d-5a7ff25d0afa"
      },
      "source": [
        "arr = np.array([[0, 72, 3],\n",
        "                [1, 3, -60],\n",
        "                [-3, -2, 4]])\n",
        "print(np.mean(arr))\n",
        "print(np.var(arr))\n",
        "print(np.median(arr))\n",
        "print(repr(np.median(arr, axis=-1)))"
      ],
      "execution_count": 137,
      "outputs": [
        {
          "output_type": "stream",
          "text": [
            "2.0\n",
            "977.3333333333334\n",
            "1.0\n",
            "array([ 3.,  1., -2.])\n"
          ],
          "name": "stdout"
        }
      ]
    },
    {
      "cell_type": "markdown",
      "metadata": {
        "id": "yQ8tQCLNslwY",
        "colab_type": "text"
      },
      "source": [
        "#**EXERCISE**"
      ]
    },
    {
      "cell_type": "code",
      "metadata": {
        "id": "U0c-BdzdshuA",
        "colab_type": "code",
        "colab": {}
      },
      "source": [
        "def get_min_max(data):\n",
        "  overall_min = data.min()\n",
        "  overall_max= data.max()\n",
        "  return (overall_min, overall_max)\n",
        "\n",
        "def col_min(data):\n",
        "  min0 = data.min(axis=0)\n",
        "  return min0\n",
        "\n",
        "def basic_stats(data):\n",
        "  mean = np.mean(data)\n",
        "  median = np.median(data)\n",
        "  var = np.var(data)\n",
        "  return (mean, median,var)"
      ],
      "execution_count": 0,
      "outputs": []
    },
    {
      "cell_type": "code",
      "metadata": {
        "id": "lqcYKIzutRQ1",
        "colab_type": "code",
        "colab": {
          "base_uri": "https://localhost:8080/",
          "height": 67
        },
        "outputId": "3602a8d5-1d42-4fc6-e332-5a793b33448d"
      },
      "source": [
        "arr = np.array([[0, 72, 3],\n",
        "                [1, 3, -60],\n",
        "                [-3, -2, 4]])\n",
        "print(np.sum(arr))\n",
        "print(repr(np.sum(arr, axis=0)))\n",
        "print(repr(np.sum(arr, axis=1)))"
      ],
      "execution_count": 138,
      "outputs": [
        {
          "output_type": "stream",
          "text": [
            "18\n",
            "array([ -2,  73, -53])\n",
            "array([ 75, -56,  -1])\n"
          ],
          "name": "stdout"
        }
      ]
    },
    {
      "cell_type": "code",
      "metadata": {
        "id": "Za7cpDbKtaqu",
        "colab_type": "code",
        "colab": {
          "base_uri": "https://localhost:8080/",
          "height": 133
        },
        "outputId": "2aa117ba-70fe-439d-e903-74c408a2781a"
      },
      "source": [
        "arr = np.array([[0, 72, 3],\n",
        "                [1, 3, -60],\n",
        "                [-3, -2, 4]])\n",
        "print(repr(np.cumsum(arr)))\n",
        "print(repr(np.cumsum(arr, axis=0)))\n",
        "print(repr(np.cumsum(arr, axis=1)))"
      ],
      "execution_count": 139,
      "outputs": [
        {
          "output_type": "stream",
          "text": [
            "array([ 0, 72, 75, 76, 79, 19, 16, 14, 18])\n",
            "array([[  0,  72,   3],\n",
            "       [  1,  75, -57],\n",
            "       [ -2,  73, -53]])\n",
            "array([[  0,  72,  75],\n",
            "       [  1,   4, -56],\n",
            "       [ -3,  -5,  -1]])\n"
          ],
          "name": "stdout"
        }
      ]
    },
    {
      "cell_type": "code",
      "metadata": {
        "id": "dJ2wTgcxtwMz",
        "colab_type": "code",
        "colab": {
          "base_uri": "https://localhost:8080/",
          "height": 217
        },
        "outputId": "248fcb9d-ee8b-409f-98d9-1ad74d05d10a"
      },
      "source": [
        "arr1 = np.array([[0, 72, 3],\n",
        "                 [1, 3, -60],\n",
        "                 [-3, -2, 4]])\n",
        "arr2 = np.array([[-15, 6, 1],\n",
        "                 [8, 9, -4],\n",
        "                 [5, -21, 18]])\n",
        "print(repr(np.concatenate([arr1, arr2])))\n",
        "print(repr(np.concatenate([arr1, arr2], axis=1)))\n",
        "print(repr(np.concatenate([arr2, arr1], axis=1)))"
      ],
      "execution_count": 140,
      "outputs": [
        {
          "output_type": "stream",
          "text": [
            "array([[  0,  72,   3],\n",
            "       [  1,   3, -60],\n",
            "       [ -3,  -2,   4],\n",
            "       [-15,   6,   1],\n",
            "       [  8,   9,  -4],\n",
            "       [  5, -21,  18]])\n",
            "array([[  0,  72,   3, -15,   6,   1],\n",
            "       [  1,   3, -60,   8,   9,  -4],\n",
            "       [ -3,  -2,   4,   5, -21,  18]])\n",
            "array([[-15,   6,   1,   0,  72,   3],\n",
            "       [  8,   9,  -4,   1,   3, -60],\n",
            "       [  5, -21,  18,  -3,  -2,   4]])\n"
          ],
          "name": "stdout"
        }
      ]
    },
    {
      "cell_type": "markdown",
      "metadata": {
        "id": "VVKMkobXt2kN",
        "colab_type": "text"
      },
      "source": [
        "#**EXERCISE**"
      ]
    },
    {
      "cell_type": "code",
      "metadata": {
        "id": "_v72a1x3t4ub",
        "colab_type": "code",
        "colab": {}
      },
      "source": [
        "def get_sums(data):\n",
        "  total_sum = np.sum(data)\n",
        "  col_sum = np.sum(data, axis=0)\n",
        "  return (total_sum, col_sum)\n",
        "\n",
        "def get_cumsum(data):\n",
        "  row_cumsum = np.cumsum(data, axis=1)\n",
        "  return(row_cumsum)\n",
        "\n",
        "def concat_arrays(data1, data2):\n",
        "  col_concat = np.concatenate([data1, data2], axis=0)\n",
        "  row_concat = np.concatenate([data1, data2], axis=1)\n",
        "  return (col_concat, row_concat)"
      ],
      "execution_count": 0,
      "outputs": []
    },
    {
      "cell_type": "code",
      "metadata": {
        "id": "q2ZYzqFSuqZv",
        "colab_type": "code",
        "colab": {}
      },
      "source": [
        "arr = np.array([1, 2, 3])\n",
        "# Saves to 'arr.npy'\n",
        "np.save('arr.npy', arr)\n",
        "# Also saves to 'arr.npy'\n",
        "np.save('arr', arr)"
      ],
      "execution_count": 0,
      "outputs": []
    },
    {
      "cell_type": "code",
      "metadata": {
        "id": "85Q1n9ADvChA",
        "colab_type": "code",
        "colab": {
          "base_uri": "https://localhost:8080/",
          "height": 33
        },
        "outputId": "f0fc7420-8b13-4594-c9cd-1678d2f4724c"
      },
      "source": [
        "arr = np.array([1, 2, 3])\n",
        "np.save('arr.npy', arr)\n",
        "load_arr = np.load('arr.npy')\n",
        "print(repr(load_arr))\n",
        "\n",
        "# Will result in FileNotFoundError\n",
        "#load_arr = np.load('arr')"
      ],
      "execution_count": 143,
      "outputs": [
        {
          "output_type": "stream",
          "text": [
            "array([1, 2, 3])\n"
          ],
          "name": "stdout"
        }
      ]
    },
    {
      "cell_type": "markdown",
      "metadata": {
        "id": "HpKQGOL8vIgH",
        "colab_type": "text"
      },
      "source": [
        "#**EXERCISE**\n"
      ]
    },
    {
      "cell_type": "code",
      "metadata": {
        "id": "te_fr6QFvLNF",
        "colab_type": "code",
        "colab": {}
      },
      "source": [
        "def save_points(save_file):\n",
        "  points = np.random.uniform(low=-2.5, high=2.5, size=(100,2))\n",
        "  np.save(save_file, points)\n"
      ],
      "execution_count": 0,
      "outputs": []
    }
  ]
}
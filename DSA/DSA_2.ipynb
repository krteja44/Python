{
  "nbformat": 4,
  "nbformat_minor": 0,
  "metadata": {
    "colab": {
      "name": "DSA.ipynb",
      "provenance": [],
      "collapsed_sections": [
        "5MT-PkTen2eM",
        "yDkRgnBFTCe7",
        "J_cgLuZDXeO_",
        "q4b3P9EqXY_A",
        "mKPpTKIICiTg",
        "SYEciRmBNZUr",
        "2fyWYQiTt5TJ",
        "tS0XsMjQno_A",
        "sZuM_S9VngsK",
        "hymF1YKxnCqA",
        "5p_MLJkPGCAU",
        "OMFBtkyTF8HC",
        "rO4fVtJsXePh",
        "W_9ak4KOe8uL",
        "4FMdpEUmm0wR",
        "8wAAkkUOm4ZW",
        "or61f-oUpC8f",
        "2Mml0WILtO5N",
        "bJEl7nYIwuG9",
        "eStUlL7jw2mC",
        "WjcK6jZX-gfj",
        "MBHW8p9Xw1v9",
        "yvm-C2SeKW0w",
        "fFF9qrXxO7OI",
        "u15j1J1JRzre",
        "90PDW4QnNbES",
        "v3sICwC3b5gO",
        "oG3RDFuweBWc",
        "DuSMKHrxfSmC"
      ]
    },
    "kernelspec": {
      "name": "python3",
      "display_name": "Python 3"
    }
  },
  "cells": [
    {
      "cell_type": "markdown",
      "metadata": {
        "id": "5MT-PkTen2eM",
        "colab_type": "text"
      },
      "source": [
        "# Arrays"
      ]
    },
    {
      "cell_type": "code",
      "metadata": {
        "id": "dJm6HM6DHHh4",
        "colab_type": "code",
        "colab": {}
      },
      "source": [
        "def array_advance(A):\n",
        "  furthest_reached = 0\n",
        "  last_idx = len(A)-1\n",
        "  i = 0\n",
        "  while i <= furthest_reached and furthest_reached < last_idx:\n",
        "    furthest_reached = max(furthest_reached, A[i]+i)\n",
        "    i += 1\n",
        "  return furthest_reached >= last_idx\n"
      ],
      "execution_count": 0,
      "outputs": []
    },
    {
      "cell_type": "code",
      "metadata": {
        "id": "2-uBxdwBRrfU",
        "colab_type": "code",
        "outputId": "4ef8999b-b909-40b9-891c-d53b47a38105",
        "colab": {
          "base_uri": "https://localhost:8080/",
          "height": 52
        }
      },
      "source": [
        "A = [3, 3, 1, 0, 2, 0, 1]\n",
        "print(array_advance(A))\n",
        "\n",
        "A = [3, 2, 0, 0, 2, 0, 1]\n",
        "print(array_advance(A))"
      ],
      "execution_count": 0,
      "outputs": [
        {
          "output_type": "stream",
          "text": [
            "True\n",
            "False\n"
          ],
          "name": "stdout"
        }
      ]
    },
    {
      "cell_type": "markdown",
      "metadata": {
        "id": "yDkRgnBFTCe7",
        "colab_type": "text"
      },
      "source": [
        "## Arbitrary Precision Increment"
      ]
    },
    {
      "cell_type": "code",
      "metadata": {
        "id": "fLb-w-N-SMFf",
        "colab_type": "code",
        "outputId": "86401d5f-aa04-41c9-8a3f-8b5ae25e4802",
        "colab": {
          "base_uri": "https://localhost:8080/",
          "height": 52
        }
      },
      "source": [
        "A = [1, 4, 9]\n",
        "s = ''.join(map(str, A))\n",
        "print(s)\n",
        "print(int(s) +1)"
      ],
      "execution_count": 0,
      "outputs": [
        {
          "output_type": "stream",
          "text": [
            "149\n",
            "150\n"
          ],
          "name": "stdout"
        }
      ]
    },
    {
      "cell_type": "code",
      "metadata": {
        "id": "bHZNoNwRTIGt",
        "colab_type": "code",
        "outputId": "84ec92a8-01a2-4f7c-b26a-42a603179f5d",
        "colab": {
          "base_uri": "https://localhost:8080/",
          "height": 52
        }
      },
      "source": [
        "A1 = [1, 4, 9]\n",
        "A2 = [9, 9, 9]\n",
        "\n",
        "def plus_one(A):\n",
        "  A[-1] += 1\n",
        "  for i in reversed(range(1, len(A))):\n",
        "    if A[i] != 10:\n",
        "      break\n",
        "    \n",
        "    A[i] = 0\n",
        "    A[i-1] +=1\n",
        "    if A[0] == 10:\n",
        "      A[0] = 1\n",
        "      A.append(0)\n",
        "\n",
        "    return A\n",
        "\n",
        "\n",
        "print(plus_one(A1))\n",
        "print(plus_one(A2))"
      ],
      "execution_count": 0,
      "outputs": [
        {
          "output_type": "stream",
          "text": [
            "[1, 5, 0]\n",
            "[9, 10, 0]\n"
          ],
          "name": "stdout"
        }
      ]
    },
    {
      "cell_type": "markdown",
      "metadata": {
        "id": "J_cgLuZDXeO_",
        "colab_type": "text"
      },
      "source": [
        "## Two Sum"
      ]
    },
    {
      "cell_type": "code",
      "metadata": {
        "id": "Rjjc9v1fTbSs",
        "colab_type": "code",
        "colab": {}
      },
      "source": [
        "# Time Complexity: O(n2)\n",
        "# Space Complexity: O(1)\n",
        "\n",
        "def two_sum_brute_force(A, target):\n",
        "  for i in range(len(A)-1):\n",
        "    for j in range(i+1, len(A)):\n",
        "      if A[i] + A[j] == target:\n",
        "        print (A[i], A[j])\n",
        "        return True\n",
        "      \n",
        "  return False"
      ],
      "execution_count": 0,
      "outputs": []
    },
    {
      "cell_type": "code",
      "metadata": {
        "id": "fk63ZfQNSg2q",
        "colab_type": "code",
        "outputId": "c021cedd-9689-4085-989b-16a9534ad755",
        "colab": {
          "base_uri": "https://localhost:8080/",
          "height": 69
        }
      },
      "source": [
        "A = [-2, 1, 2, 4, 7, 11]\n",
        "target = 13\n",
        "print(two_sum_brute_force(A,target))\n",
        "target = 20\n",
        "print(two_sum_brute_force(A,target))"
      ],
      "execution_count": 0,
      "outputs": [
        {
          "output_type": "stream",
          "text": [
            "2 11\n",
            "True\n",
            "False\n"
          ],
          "name": "stdout"
        }
      ]
    },
    {
      "cell_type": "code",
      "metadata": {
        "id": "V9kABoABSi3I",
        "colab_type": "code",
        "colab": {}
      },
      "source": [
        "# Time Complexity: O(n)\n",
        "# Space Complexity: O(n)\n",
        "\n",
        "def two_sum_hash_table (A, target):\n",
        "  ht = dict()\n",
        "  for i in range(len(A)):\n",
        "    if A[i] in ht:\n",
        "      print(ht[A[i]], A[i])\n",
        "      return True\n",
        "    else:\n",
        "      ht[target - A[i]] = A[i]\n",
        "  return False"
      ],
      "execution_count": 0,
      "outputs": []
    },
    {
      "cell_type": "code",
      "metadata": {
        "id": "j_ktKELATtuB",
        "colab_type": "code",
        "outputId": "cb0a8911-3dd7-45fe-dec6-a083b73c7717",
        "colab": {
          "base_uri": "https://localhost:8080/",
          "height": 69
        }
      },
      "source": [
        "A = [-2, 1, 2, 4, 7, 11]\n",
        "target = 13\n",
        "print(two_sum_hash_table(A,target))\n",
        "target = 20\n",
        "print(two_sum_hash_table(A,target))"
      ],
      "execution_count": 0,
      "outputs": [
        {
          "output_type": "stream",
          "text": [
            "2 11\n",
            "True\n",
            "False\n"
          ],
          "name": "stdout"
        }
      ]
    },
    {
      "cell_type": "code",
      "metadata": {
        "id": "9tRAI_lHTwsD",
        "colab_type": "code",
        "outputId": "94584492-b22b-4530-b969-6d2a6a850976",
        "colab": {
          "base_uri": "https://localhost:8080/",
          "height": 52
        }
      },
      "source": [
        "# Time Complexity: O(n)\n",
        "# Space Complexity: O(1)\n",
        "\n",
        "def two_sum (A, target):\n",
        "  i = 0\n",
        "  j = len(A)-1\n",
        "  while i < j :\n",
        "    if A[i]+A[j] == target:\n",
        "      print (A[i],A[j] )\n",
        "      return True\n",
        "    elif A[i]+A[j] < target:\n",
        "      i +=1\n",
        "    else:\n",
        "      j -= 1\n",
        "  return False\n",
        "\n",
        "A = [-2, 1, 2, 4, 7, 11]\n",
        "target = 13\n",
        "\n",
        "print(two_sum(A,target))"
      ],
      "execution_count": 0,
      "outputs": [
        {
          "output_type": "stream",
          "text": [
            "2 11\n",
            "True\n"
          ],
          "name": "stdout"
        }
      ]
    },
    {
      "cell_type": "code",
      "metadata": {
        "id": "JnFmJ3AnVRNj",
        "colab_type": "code",
        "outputId": "bebac441-6d2c-4f94-f7b4-5b463c1cafad",
        "colab": {
          "base_uri": "https://localhost:8080/",
          "height": 69
        }
      },
      "source": [
        "#Pair the longest task with the shortest one.\n",
        "\n",
        "A = [6, 3, 2, 7, 5, 5]\n",
        "\n",
        "A = sorted(A)\n",
        "\n",
        "for i in range(len(A)//2):\n",
        "    print(A[i], A[~i])"
      ],
      "execution_count": 0,
      "outputs": [
        {
          "output_type": "stream",
          "text": [
            "2 7\n",
            "3 6\n",
            "5 5\n"
          ],
          "name": "stdout"
        }
      ]
    },
    {
      "cell_type": "markdown",
      "metadata": {
        "id": "q4b3P9EqXY_A",
        "colab_type": "text"
      },
      "source": [
        "## Intersection of Two Sorted Arrays"
      ]
    },
    {
      "cell_type": "code",
      "metadata": {
        "id": "-DKioa6bXKjg",
        "colab_type": "code",
        "outputId": "706e87a5-ec80-428e-ed6e-cb2d7b6091cd",
        "colab": {
          "base_uri": "https://localhost:8080/",
          "height": 35
        }
      },
      "source": [
        "A = [2, 3, 3, 5, 7, 11]\n",
        "B = [3, 3, 7, 15, 31]\n",
        "\n",
        "print(set(A).intersection(B))"
      ],
      "execution_count": 0,
      "outputs": [
        {
          "output_type": "stream",
          "text": [
            "{3, 7}\n"
          ],
          "name": "stdout"
        }
      ]
    },
    {
      "cell_type": "code",
      "metadata": {
        "id": "TN745-KFXi0A",
        "colab_type": "code",
        "outputId": "fb8bcf40-f38a-4cf4-e109-8500361a2833",
        "colab": {
          "base_uri": "https://localhost:8080/",
          "height": 35
        }
      },
      "source": [
        "def intersect_sorted_array (A,B):\n",
        "  i = 0 \n",
        "  j = 0\n",
        "  intersection = []\n",
        "\n",
        "  while i < len(A) and j < len(B):\n",
        "    if A[i] == B[j]:\n",
        "      if i == 0 or A[i] != A[i-1]:\n",
        "        intersection.append(A[i])\n",
        "      i+=1\n",
        "      j+=1\n",
        "    elif A[i]< B[j]:\n",
        "      i+=1 \n",
        "    else:\n",
        "      j+=1\n",
        "    \n",
        "  return intersection\n",
        "\n",
        "\n",
        "A = [2, 3, 3, 5, 7, 11]\n",
        "B = [3, 3, 7, 15, 31]\n",
        "\n",
        "print(intersect_sorted_array(A, B))"
      ],
      "execution_count": 0,
      "outputs": [
        {
          "output_type": "stream",
          "text": [
            "[3, 7]\n"
          ],
          "name": "stdout"
        }
      ]
    },
    {
      "cell_type": "code",
      "metadata": {
        "id": "ZTnXy3FLZ_G2",
        "colab_type": "code",
        "colab": {}
      },
      "source": [
        "def buy_and_sell_stock_once(prices):\n",
        "  max_profit = 0.0\n",
        "  min_price = float('inf')\n",
        "  for price in prices:\n",
        "    min_price = min(price, min_price)\n",
        "    compare_profit = price - min_price\n",
        "    max_profit = max(compare_profit, max_profit)\n",
        "\n",
        "  return max_profit"
      ],
      "execution_count": 0,
      "outputs": []
    },
    {
      "cell_type": "code",
      "metadata": {
        "id": "mkURN6Cq7_9g",
        "colab_type": "code",
        "outputId": "28efc695-e10f-405c-c5bb-f8a0f74f981e",
        "colab": {
          "base_uri": "https://localhost:8080/",
          "height": 35
        }
      },
      "source": [
        "print(buy_and_sell_stock_once([310, 315, 275, 295, 260, 270, 290,230, 255, 250]))"
      ],
      "execution_count": 0,
      "outputs": [
        {
          "output_type": "stream",
          "text": [
            "30\n"
          ],
          "name": "stdout"
        }
      ]
    },
    {
      "cell_type": "markdown",
      "metadata": {
        "id": "mKPpTKIICiTg",
        "colab_type": "text"
      },
      "source": [
        "# Binary Trees"
      ]
    },
    {
      "cell_type": "code",
      "metadata": {
        "id": "7N6xSzJZ8Bhd",
        "colab_type": "code",
        "outputId": "e79027ac-969e-4174-b4be-6f8a4efca128",
        "cellView": "both",
        "colab": {
          "base_uri": "https://localhost:8080/",
          "height": 35
        }
      },
      "source": [
        "#@title\n",
        "class Node(object):\n",
        "  def __init__(self,value):\n",
        "    self.value = value\n",
        "    self.left = None\n",
        "    self.right = None\n",
        "\n",
        "\n",
        "class BinaryTree(object):\n",
        "  def __init__(self,root):\n",
        "    self.root = Node(root)\n",
        "\n",
        "  def print_tree(self, traversal_type):\n",
        "    if traversal_type == \"preorder\":\n",
        "      return self.preorder_print(tree.root, \"\")\n",
        "    elif traversal_type == \"inorder\":\n",
        "      return self.inorder_print(tree.root, \"\")\n",
        "    elif traversal_type == \"postorder\":\n",
        "      return self.postorder_print(tree.root, \"\")\n",
        "    elif traversal_type == \"levelorder\":\n",
        "      return self.levelorder_print(tree.root)\n",
        "\n",
        "    elif traversal_type == \"reverse_levelorder\":\n",
        "      return self.reverse_levelorder_print(tree.root)\n",
        "\n",
        "    else:\n",
        "      print(\"Traversal type \" + str(traversal_type) + \" is not supported.\")\n",
        "    return False\n",
        "\n",
        "  def preorder_print(self,start, traversal):\n",
        "    \"\"\"Root->Left->Right\"\"\"\n",
        "    if start:\n",
        "      traversal += (str(start.value) + \"-\")\n",
        "      traversal = self.preorder_print(start.left, traversal)\n",
        "      traversal = self.preorder_print(start.right, traversal)\n",
        "    return traversal\n",
        "  \n",
        "  def inorder_print(self,start, traversal):\n",
        "    \"\"\"Left->Root->Right\"\"\"\n",
        "    if start:\n",
        "      traversal = self.inorder_print(start.left, traversal)\n",
        "      traversal += (str(start.value) + \"-\")\n",
        "      traversal = self.inorder_print(start.right, traversal)\n",
        "    return traversal\n",
        "\n",
        "  \n",
        "  def postorder_print(self, start, traversal):\n",
        "    \"\"\"Left->Right->Root\"\"\"\n",
        "    if start:\n",
        "      traversal = self.postorder_print(start.left, traversal)\n",
        "      traversal = self.postorder_print(start.right, traversal)\n",
        "      traversal += (str(start.value) + \"-\")\n",
        "    return traversal\n",
        "  \n",
        "  def levelorder_print(self, start):\n",
        "    if start is None:\n",
        "      return\n",
        "    queue = Queue()\n",
        "    queue.enqueue(start)\n",
        "\n",
        "    traversal = \"\"\n",
        "    while len(queue)>0:\n",
        "      \n",
        "      traversal += (str(queue.peek()) + \"-\")\n",
        "      node = queue.dequeue()\n",
        "      print(str(queue.peek()))\n",
        "      print('size', queue.size())\n",
        "      if node.left:\n",
        "        queue.enqueue(node.left)\n",
        "         \n",
        "      if node.right:\n",
        "        queue.enqueue(node.right)\n",
        "\n",
        "    return traversal\n",
        "  \n",
        "  def reverse_levelorder_print(self,start):\n",
        "    if start is None:\n",
        "      return\n",
        "\n",
        "    queue = Queue()\n",
        "    stack = Stack()\n",
        "    queue.enqueue(start)\n",
        "\n",
        "    traversal = \"\"\n",
        "    while(len(queue) > 0):\n",
        "      node = queue.dequeue()\n",
        "\n",
        "      stack.push(node)\n",
        "\n",
        "      if node.right:\n",
        "        queue.enqueue(node.right)\n",
        "\n",
        "      if node.left:\n",
        "        queue.enqueue(node.left)\n",
        "\n",
        "    while len(stack)>0:\n",
        "      node = stack.pop()\n",
        "      traversal += (str(node.value) + \"-\")\n",
        "\n",
        "    return traversal\n",
        "\n",
        "  def height(self, node):\n",
        "    if node is None:\n",
        "      return -1\n",
        "    \n",
        "    left_height = self.height(node.left)\n",
        "    right_height = self.height(node.right)\n",
        "\n",
        "    return 1 + max(left_height, right_height)\n",
        "\n",
        "  def size(self, node):\n",
        "    if self.root is None:\n",
        "      return 0\n",
        "\n",
        "    stack = Stack()\n",
        "    stack.push(self.root)\n",
        "    size = 1\n",
        "    while stack:\n",
        "      node = stack.pop()\n",
        "      if node.left:\n",
        "        size += 1\n",
        "        stack.push(node.left)\n",
        "      \n",
        "      if node.right:\n",
        "        size += 1\n",
        "        stack.push(node.right)\n",
        "\n",
        "    return size\n",
        "\n",
        "  def size_(self,node, size=0):\n",
        "    if node is None:\n",
        "      return 0\n",
        "    return 1 + self.size_(node.left) + self.size_(node.right)\n",
        "\n",
        "class Queue(object):\n",
        "  def __init__(self):\n",
        "    self.items = []\n",
        "  \n",
        "  def enqueue(self, item):\n",
        "    self.items.insert(0, item)\n",
        "\n",
        "  def dequeue(self):\n",
        "    if not self.is_empty():\n",
        "      return self.items.pop()\n",
        "\n",
        "  def is_empty(self):\n",
        "    return len(self.items) == 0\n",
        "\n",
        "  def peek(self):\n",
        "    if not self.is_empty():\n",
        "      return self.items[-1].value\n",
        "  \n",
        "  def __len__(self):\n",
        "    return self.size()\n",
        "\n",
        "  def size(self):\n",
        "    return len(self.items)\n",
        "\n",
        "\n",
        "class Stack(object):\n",
        "  def __init__(self):\n",
        "    self.items = []\n",
        "\n",
        "  def __len__(self):\n",
        "    return self.size()\n",
        "     \n",
        "  def size(self):\n",
        "    return len(self.items)\n",
        "\n",
        "  def push(self, item):\n",
        "    self.items.append(item)\n",
        "\n",
        "  def pop(self):  \n",
        "    if not self.is_empty():\n",
        "      return self.items.pop()\n",
        "\n",
        "  def peek(self):\n",
        "    if not self.is_empty():\n",
        "      return self.items[-1]\n",
        "\n",
        "  def is_empty(self):\n",
        "    return len(self.items) == 0\n",
        "\n",
        "  def __str__(self):\n",
        "    s = \"\"\n",
        "    for i in range(len(self.items)):\n",
        "      s += str(self.items[i].value) + \"-\"\n",
        "    return s\n",
        "\n",
        "\n",
        "\n",
        "tree = BinaryTree(1)\n",
        "tree.root.left = Node(2)\n",
        "tree.root.right = Node(3)\n",
        "tree.root.left.left = Node(4)\n",
        "tree.root.left.right = Node(5)\n",
        "tree.root.right.left = Node(6)\n",
        "tree.root.right.right = Node(7)\n",
        "\n",
        "\n",
        "#print(tree.print_tree(\"preorder\"))\n",
        "#print(tree.print_tree(\"inorder\"))\n",
        "#print(tree.print_tree(\"postorder\"))\n",
        "#print(tree.print_tree(\"levelorder\"))\n",
        "#print(tree.print_tree(\"reverse_levelorder\"))\n",
        "#print(tree.height(tree.root))\n",
        "#print(tree.size_(tree.root))\n",
        "print(tree.size(tree.root))"
      ],
      "execution_count": 0,
      "outputs": [
        {
          "output_type": "stream",
          "text": [
            "7\n"
          ],
          "name": "stdout"
        }
      ]
    },
    {
      "cell_type": "code",
      "metadata": {
        "id": "zPGJ7y5sDpq3",
        "colab_type": "code",
        "outputId": "4f3772bc-1d16-44f9-be0a-7b7ea87ba7f5",
        "colab": {
          "base_uri": "https://localhost:8080/",
          "height": 35
        }
      },
      "source": [
        "list = []\n",
        "list.insert(0,3)\n",
        "print(list)"
      ],
      "execution_count": 0,
      "outputs": [
        {
          "output_type": "stream",
          "text": [
            "[3]\n"
          ],
          "name": "stdout"
        }
      ]
    },
    {
      "cell_type": "code",
      "metadata": {
        "id": "Hlr3ynjrWVGZ",
        "colab_type": "code",
        "outputId": "de9ab920-8982-465e-c174-8fc65f42460e",
        "colab": {
          "base_uri": "https://localhost:8080/",
          "height": 35
        }
      },
      "source": [
        "list.insert(0,2)\n",
        "print(list)"
      ],
      "execution_count": 0,
      "outputs": [
        {
          "output_type": "stream",
          "text": [
            "[2, 3]\n"
          ],
          "name": "stdout"
        }
      ]
    },
    {
      "cell_type": "code",
      "metadata": {
        "id": "9bV-DA7lWc-s",
        "colab_type": "code",
        "outputId": "71f57fd0-9e00-42d5-f59f-7309c38fa215",
        "colab": {
          "base_uri": "https://localhost:8080/",
          "height": 35
        }
      },
      "source": [
        "print(list)"
      ],
      "execution_count": 0,
      "outputs": [
        {
          "output_type": "stream",
          "text": [
            "[2]\n"
          ],
          "name": "stdout"
        }
      ]
    },
    {
      "cell_type": "markdown",
      "metadata": {
        "id": "SYEciRmBNZUr",
        "colab_type": "text"
      },
      "source": [
        "# Binary Search Tree"
      ]
    },
    {
      "cell_type": "code",
      "metadata": {
        "id": "4-nkHztFWh_O",
        "colab_type": "code",
        "colab": {}
      },
      "source": [
        "class Node(object):\n",
        "  def __init__(self, data):\n",
        "    self.data = data\n",
        "    self.left = None\n",
        "    self.right = None\n",
        "\n",
        "class BST(object):\n",
        "  def __init__(self, root):\n",
        "    self.root = Node(root)\n",
        "\n",
        "  def insert(self, new_val):\n",
        "    self.insert_helper(self.root, new_val)\n",
        "\n",
        "  def insert_helper(self, current, new_val):\n",
        "    if current.data < new_val:\n",
        "      if current.right:\n",
        "        self.insert_helper(current.right, new_val)\n",
        "      else:\n",
        "        current.right = Node(new_val)\n",
        "\n",
        "    else:\n",
        "      if current.left:\n",
        "        self.insert_helper(current.left, new_val)\n",
        "      else:\n",
        "        current.left = Node(new_val)\n",
        "\n",
        "  def search(self, find_val):\n",
        "    return self.search_helper(self.root, find_val)\n",
        "\n",
        "  def search_helper(self,current, find_val):\n",
        "    if current:\n",
        "      if current.data == find_val:\n",
        "        return True\n",
        "      elif current.data < find_val:\n",
        "        return self.search_helper(current.right, find_val)\n",
        "      else:\n",
        "        return self.search_helper(current.left, find_val)\n",
        "\n",
        "  def is_bst_satisfied(self):\n",
        "    return self.bst_satisfied_helper(self.root)\n",
        "\n",
        "  def bst_satisfied_helper(self,current):\n",
        "    if current:\n",
        "      if current.left:\n",
        "        if current.left.data <= current.data:\n",
        "          self.bst_satisfied_helper(current.left)\n",
        "        else:\n",
        "          return False\n",
        "      if current.right:\n",
        "        if current.right.data > current.data:\n",
        "          self.bst_satisfied_helper(current.right)\n",
        "        else:\n",
        "          return False\n",
        "    return True\n",
        "\n",
        "  def is_bst_satisfied2(self):\n",
        "    def helper(node, lower=float('-inf'), upper=float('inf')):\n",
        "      if not node:\n",
        "        return True\n",
        "            \n",
        "      val = node.data\n",
        "      if val <= lower or val >= upper:\n",
        "        return False\n",
        "\n",
        "      if not helper(node.right, val, upper):\n",
        "        return False\n",
        "      if not helper(node.left, lower, val):\n",
        "        return False\n",
        "      return True\n",
        "\n",
        "    return helper(self.root)\n",
        "          \n",
        "    \n"
      ],
      "execution_count": 0,
      "outputs": []
    },
    {
      "cell_type": "code",
      "metadata": {
        "id": "TxSR0AD9Ql0H",
        "colab_type": "code",
        "outputId": "519bc495-1561-4f40-bc94-380f850e8c1c",
        "colab": {
          "base_uri": "https://localhost:8080/",
          "height": 35
        }
      },
      "source": [
        "bst = BST(10)\n",
        "bst.insert(3)\n",
        "bst.insert(1)\n",
        "bst.insert(25)\n",
        "bst.insert(9)\n",
        "bst.insert(13)\n",
        "\n",
        "#print(bst.search(9))\n",
        "#print(bst.search(14))\n",
        "print(bst.is_bst_satisfied())"
      ],
      "execution_count": 0,
      "outputs": [
        {
          "output_type": "stream",
          "text": [
            "True\n"
          ],
          "name": "stdout"
        }
      ]
    },
    {
      "cell_type": "markdown",
      "metadata": {
        "id": "2fyWYQiTt5TJ",
        "colab_type": "text"
      },
      "source": [
        "# Binary Search"
      ]
    },
    {
      "cell_type": "code",
      "metadata": {
        "id": "FFRkhYnebU5o",
        "colab_type": "code",
        "outputId": "a8643a07-2161-4a8b-a528-f1c23c0cc057",
        "colab": {
          "base_uri": "https://localhost:8080/",
          "height": 69
        }
      },
      "source": [
        "def linear_search(data, target):\n",
        "  for i in range(len(data)):\n",
        "    if data[i]==target:\n",
        "      return True\n",
        "\n",
        "  return False\n",
        "\n",
        "\n",
        "def binary_search_iterative(data, target):\n",
        "  low = 0\n",
        "  high = len(data) - 1\n",
        "\n",
        "  while low <= high:\n",
        "    mid = (low+high)//2\n",
        "    if (data[mid] == target):\n",
        "      return True\n",
        "    elif (data[mid] > target):\n",
        "      high = mid -1\n",
        "    else:\n",
        "      low = mid + 1\n",
        "  return False\n",
        "\n",
        "def binary_search_recursive(data,target, low, high):\n",
        "  if low > high:\n",
        "    return False    \n",
        "  else:\n",
        "    mid = (low+high)//2\n",
        "    if (data[mid] == target):\n",
        "      return True\n",
        "    elif (data[mid] > target):\n",
        "      return binary_search_recursive(data,target, low, mid-1)\n",
        "    else:\n",
        "      return binary_search_recursive(data,target, mid+1, high)\n",
        "\n",
        "\n",
        "\n",
        "data = [2,4,5,7,8,9,12,14,17,19,22,25,27,28,33,37]\n",
        "target = 37\n",
        "\n",
        "print(linear_search(data, target = 20))\n",
        "\n",
        "print(binary_search_recursive(data, target, 0, len(data)-1))\n",
        "print(binary_search_iterative(data, target))"
      ],
      "execution_count": 0,
      "outputs": [
        {
          "output_type": "stream",
          "text": [
            "False\n",
            "True\n",
            "True\n"
          ],
          "name": "stdout"
        }
      ]
    },
    {
      "cell_type": "markdown",
      "metadata": {
        "id": "tS0XsMjQno_A",
        "colab_type": "text"
      },
      "source": [
        "## Closest Number"
      ]
    },
    {
      "cell_type": "code",
      "metadata": {
        "id": "gP2ee-MKvEoD",
        "colab_type": "code",
        "outputId": "21bb7a5a-9014-42fb-dd7c-3fb407763b10",
        "colab": {
          "base_uri": "https://localhost:8080/",
          "height": 52
        }
      },
      "source": [
        "A1 = [1, 2, 4, 5, 6, 6, 8, 9]\n",
        "A2 = [2, 5, 6, 7, 8, 8, 9]\n",
        "\n",
        "\n",
        "def find_closest_num(A,target):\n",
        "  low = 0\n",
        "  high = len(A)-1\n",
        "  min_diff = float(\"inf\")\n",
        "  closest_num = None\n",
        "\n",
        "  if len(A) == 0:\n",
        "    return None\n",
        "  \n",
        "  if len(A) == 1:\n",
        "    return A[0]\n",
        "  \n",
        "  while low <= high:\n",
        "    mid = (low+high) // 2\n",
        "    # Ensure you do not read beyond the bounds\n",
        "    # of the list.\n",
        "    if mid+1 < len(A):\n",
        "      min_diff_right = abs(A[mid+1] - target)\n",
        "\n",
        "    if mid-1> 0:\n",
        "      min_diff_left = abs(A[mid-1] - target)\n",
        "    \n",
        "\n",
        "    if min_diff_left < min_diff:\n",
        "      min_diff = min_diff_left\n",
        "      closest_num = A[mid-1]\n",
        "    \n",
        "    if min_diff_right < min_diff:\n",
        "      min_diff = min_diff_right\n",
        "      closest_num = A[mid+1]\n",
        "\n",
        "    if A[mid] < target:\n",
        "      low = mid+1\n",
        "    elif A[mid]c > target:\n",
        "      high = mid-1\n",
        "\n",
        "    else:\n",
        "      return A[mid]\n",
        "\n",
        "  return closest_num\n",
        "\n",
        "\n",
        "print(find_closest_num(A1, 11))\n",
        "print(find_closest_num(A2, 4))"
      ],
      "execution_count": 0,
      "outputs": [
        {
          "output_type": "stream",
          "text": [
            "9\n",
            "5\n"
          ],
          "name": "stdout"
        }
      ]
    },
    {
      "cell_type": "markdown",
      "metadata": {
        "id": "sZuM_S9VngsK",
        "colab_type": "text"
      },
      "source": [
        "## Fixed Point"
      ]
    },
    {
      "cell_type": "code",
      "metadata": {
        "id": "kTE-r9MHHa6C",
        "colab_type": "code",
        "outputId": "512c7ade-ee6b-4d30-a98b-41d955e3c04d",
        "colab": {
          "base_uri": "https://localhost:8080/",
          "height": 69
        }
      },
      "source": [
        "# Time Complexity: O(n)\n",
        "# Space Complexity: O(1)\n",
        "def find_fixed_point_linear(A):\n",
        "  for i in range(len(A)):\n",
        "    if A[i] == i:\n",
        "      return A[i]\n",
        "  return None\n",
        "\n",
        "# Time Complexity: O(log n)\n",
        "# Space Complexity: O(1)\n",
        "def find_fixed_point(A):\n",
        "  low = 0 \n",
        "  high = len(A)-1\n",
        "  if len(A)!=0:\n",
        "    while low<=high:\n",
        "      mid = (low+high) //2\n",
        "      if A[mid]==mid:\n",
        "        return True\n",
        "      elif (A[mid] < mid):\n",
        "        low = mid+1\n",
        "      else:\n",
        "        high = mid-1\n",
        "    return None\n",
        "\n",
        "\n",
        "# Fixed point is 3:\n",
        "A1 = [-10, -5, 0, 3, 7]\n",
        "\n",
        "# Fixed point is 0:\n",
        "A2 = [0, 2, 5, 8, 17]\n",
        "\n",
        "# No fixed point. Return \"None\":\n",
        "A3 = [-10, -5, 3, 4, 7, 9]\n",
        "\n",
        "print(find_fixed_point(A1))\n",
        "print(find_fixed_point(A2))\n",
        "print(find_fixed_point(A3))"
      ],
      "execution_count": 0,
      "outputs": [
        {
          "output_type": "stream",
          "text": [
            "True\n",
            "True\n",
            "None\n"
          ],
          "name": "stdout"
        }
      ]
    },
    {
      "cell_type": "markdown",
      "metadata": {
        "id": "hymF1YKxnCqA",
        "colab_type": "text"
      },
      "source": [
        "## Bitonically Sorted"
      ]
    },
    {
      "cell_type": "code",
      "metadata": {
        "id": "K0D7Uv7V4Gxs",
        "colab_type": "code",
        "outputId": "97acbb54-686d-4e0a-dc69-3389d0287fdb",
        "colab": {
          "base_uri": "https://localhost:8080/",
          "height": 87
        }
      },
      "source": [
        "##Bitonically Sorted\n",
        "def find_highest_number(A):\n",
        "  low = 0\n",
        "  high = len(A)-1\n",
        "\n",
        "  # Require at least 3 elements for a bitonic sequence.\n",
        "  if len(A) < 3:\n",
        "    return None\n",
        "\n",
        "  while low<=high:\n",
        "    mid = (low+high)//2\n",
        "\n",
        "    mid_left = A[mid-1] if mid-1 > 0 else float(\"-inf\")\n",
        "    mid_right = A[mid+1] if mid+1 < len(A) else float(\"inf\")\n",
        "    \n",
        "    if (mid_left < A[mid] and A[mid]<mid_right):\n",
        "      low = mid + 1\n",
        "    elif (mid_left > A[mid] and A[mid]>mid_right):\n",
        "      high = mid - 1\n",
        "    elif (mid_left < A[mid] and A[mid]>mid_right):\n",
        "      return A[mid]\n",
        "  return None\n",
        "\n",
        "# Peak element is \"5\".\n",
        "A = [1, 2, 3, 4, 5, 4, 3, 2, 1]\n",
        "print(find_highest_number(A))\n",
        "A = [1, 6, 5, 4, 3, 2, 1]\n",
        "print(find_highest_number(A))\n",
        "A = [1, 2, 3, 4, 5]\n",
        "print(find_highest_number(A))\n",
        "A = [5, 4, 3, 2, 1]\n",
        "print(find_highest_number(A))"
      ],
      "execution_count": 0,
      "outputs": [
        {
          "output_type": "stream",
          "text": [
            "5\n",
            "6\n",
            "None\n",
            "5\n"
          ],
          "name": "stdout"
        }
      ]
    },
    {
      "cell_type": "markdown",
      "metadata": {
        "id": "5p_MLJkPGCAU",
        "colab_type": "text"
      },
      "source": [
        "## Find First Entry in List with Duplicates"
      ]
    },
    {
      "cell_type": "code",
      "metadata": {
        "id": "41QvWhJl78eD",
        "colab_type": "code",
        "outputId": "1f5951da-8189-46e5-80e3-cbf77263a8b4",
        "colab": {
          "base_uri": "https://localhost:8080/",
          "height": 35
        }
      },
      "source": [
        "#Naive approach\n",
        "#O(n)\n",
        "def find(A,target):\n",
        "  for i in range(len(A)):\n",
        "    if A[i] == target:\n",
        "      return i\n",
        "  return None\n",
        "\n",
        "\n",
        "def find_binary(A, target):\n",
        "  low = 0\n",
        "  high = len(A) - 1\n",
        "\n",
        "  while low<=high:\n",
        "    mid = (low+high) //2\n",
        "    if (A[mid]<target):\n",
        "      low=mid+1\n",
        "    elif (A[mid]>target):\n",
        "      high =  mid-1\n",
        "    else:\n",
        "      if mid -1 <0:\n",
        "        return mid\n",
        "      if A[mid-1] != target:\n",
        "        return mid\n",
        "      high = mid-1\n",
        "\n",
        "\n",
        "A = [-14, -10, 2, 108, 108, 243, 285, 285, 285, 401]\n",
        "target = 108\n",
        "x = find_binary(A, target)\n",
        "print(x)\n",
        "        "
      ],
      "execution_count": 0,
      "outputs": [
        {
          "output_type": "stream",
          "text": [
            "3\n"
          ],
          "name": "stdout"
        }
      ]
    },
    {
      "cell_type": "markdown",
      "metadata": {
        "id": "OMFBtkyTF8HC",
        "colab_type": "text"
      },
      "source": [
        "## Python's Bisect Method"
      ]
    },
    {
      "cell_type": "code",
      "metadata": {
        "id": "ZDdEGa7BFT5w",
        "colab_type": "code",
        "outputId": "9e508299-ac16-4455-e9e3-eddb0bdc8894",
        "colab": {
          "base_uri": "https://localhost:8080/",
          "height": 52
        }
      },
      "source": [
        "# Import allows us to make use of the bisect module.\n",
        "import bisect\n",
        "\n",
        "# This sorted list will be used throughout this lesson\n",
        "# to showcase the functionality of the \"bisect\" method.\n",
        "A = [-14, -10, 2, 108, 108, 243, 285, 285, 285, 401]\n",
        "\n",
        "print(bisect.bisect_left(A,-10))\n",
        "\n",
        "print(bisect.bisect_left(A,285))\n",
        "\n",
        "\n"
      ],
      "execution_count": 0,
      "outputs": [
        {
          "output_type": "stream",
          "text": [
            "1\n",
            "6\n"
          ],
          "name": "stdout"
        }
      ]
    },
    {
      "cell_type": "code",
      "metadata": {
        "id": "vI6ve8q4W8LG",
        "colab_type": "code",
        "outputId": "9557f11f-ce53-4f25-f710-9404bf5360f7",
        "colab": {
          "base_uri": "https://localhost:8080/",
          "height": 52
        }
      },
      "source": [
        "# Import allows us to make use of the bisect module.\n",
        "import bisect\n",
        "\n",
        "# This sorted list will be used throughout this lesson\n",
        "# to showcase the functionality of the \"bisect\" method.\n",
        "A = [-14, -10, 2, 108, 108, 243, 285, 285, 285, 401]\n",
        "\n",
        "# Index position to right of -10 is 2.\n",
        "print(bisect.bisect_right(A, -10)) \n",
        "\n",
        "# Index position after last occurrence of 285 is 9.\n",
        "print(bisect.bisect_right(A, 285))"
      ],
      "execution_count": 0,
      "outputs": [
        {
          "output_type": "stream",
          "text": [
            "2\n",
            "9\n"
          ],
          "name": "stdout"
        }
      ]
    },
    {
      "cell_type": "code",
      "metadata": {
        "id": "t0h6cCfVW-EW",
        "colab_type": "code",
        "outputId": "9b4722d1-3e83-457c-8708-ba135538391f",
        "colab": {
          "base_uri": "https://localhost:8080/",
          "height": 52
        }
      },
      "source": [
        "# Import allows us to make use of the bisect module.\n",
        "import bisect\n",
        "\n",
        "# This sorted list will be used throughout this lesson\n",
        "# to showcase the functionality of the \"bisect\" method.\n",
        "A = [-14, -10, 2, 108, 108, 243, 285, 285, 285, 401]\n",
        "\n",
        "# Index position to right of -10 is 2. (Same as bisect_right)\n",
        "print(bisect.bisect(A, -10)) \n",
        "\n",
        "# Index position after last occurrence of 285 is 9. (Same as bisect_right).\n",
        "print(bisect.bisect(A, 285))"
      ],
      "execution_count": 0,
      "outputs": [
        {
          "output_type": "stream",
          "text": [
            "2\n",
            "9\n"
          ],
          "name": "stdout"
        }
      ]
    },
    {
      "cell_type": "code",
      "metadata": {
        "id": "S4ebVAARW_5V",
        "colab_type": "code",
        "outputId": "dcaf20ce-8d31-461b-c2d7-ea9d3c41ca8e",
        "colab": {
          "base_uri": "https://localhost:8080/",
          "height": 69
        }
      },
      "source": [
        "# Import allows us to make use of the bisect module.\n",
        "import bisect\n",
        "\n",
        "# This sorted list will be used throughout this lesson\n",
        "# to showcase the functionality of the \"bisect\" method.\n",
        "A = [-14, -10, 2, 108, 108, 243, 285, 285, 285, 401]\n",
        "\n",
        "\n",
        "print(A)\n",
        "bisect.insort_left(A, 108)\n",
        "print(A)\n",
        "\n",
        "bisect.insort_right(A, 109)\n",
        "print(A)"
      ],
      "execution_count": 0,
      "outputs": [
        {
          "output_type": "stream",
          "text": [
            "[-14, -10, 2, 108, 108, 243, 285, 285, 285, 401]\n",
            "[-14, -10, 2, 108, 108, 108, 243, 285, 285, 285, 401]\n",
            "[-14, -10, 2, 108, 108, 108, 109, 243, 285, 285, 285, 401]\n"
          ],
          "name": "stdout"
        }
      ]
    },
    {
      "cell_type": "markdown",
      "metadata": {
        "id": "rO4fVtJsXePh",
        "colab_type": "text"
      },
      "source": [
        "## Integer Square Root"
      ]
    },
    {
      "cell_type": "code",
      "metadata": {
        "id": "_hvU-6LiXG3v",
        "colab_type": "code",
        "outputId": "42c02cac-2b84-4f9d-9501-fa4dc8821796",
        "colab": {
          "base_uri": "https://localhost:8080/",
          "height": 104
        }
      },
      "source": [
        "def integer_square_root(k):\n",
        "  #ln = len(str(k//10))\n",
        "  #low = 10** (ln-1) if ln >1 else 0\n",
        "  #high = 10 ** ln\n",
        "  low = 0 \n",
        "  high = k\n",
        "  while low <= high:\n",
        "    mid = (low+high) //2\n",
        "    print('mid', mid)\n",
        "    mid_squared = mid * mid\n",
        "    print('mid_squared',mid_squared)\n",
        "    if mid_squared <= k:\n",
        "      low = mid+1\n",
        "    else:\n",
        "      high = mid-1\n",
        "    \n",
        "  return low-1\n",
        "\n",
        "\n",
        "print(integer_square_root(3))"
      ],
      "execution_count": 0,
      "outputs": [
        {
          "output_type": "stream",
          "text": [
            "mid 1\n",
            "mid_squared 1\n",
            "mid 2\n",
            "mid_squared 4\n",
            "1\n"
          ],
          "name": "stdout"
        }
      ]
    },
    {
      "cell_type": "markdown",
      "metadata": {
        "id": "W_9ak4KOe8uL",
        "colab_type": "text"
      },
      "source": [
        "## Cyclically Shifted Array"
      ]
    },
    {
      "cell_type": "code",
      "metadata": {
        "id": "_VOZg6rocNdL",
        "colab_type": "code",
        "outputId": "33d65757-df64-4279-b2d7-6c1889d72551",
        "colab": {
          "base_uri": "https://localhost:8080/",
          "height": 35
        }
      },
      "source": [
        "def find_cylic_small_element(A):\n",
        "  low = 0 \n",
        "  high = len(A)-1\n",
        "\n",
        "  while low < high:\n",
        "    mid = (low+high)//2\n",
        "    if A[mid] > A[high]:\n",
        "      low = mid+1\n",
        "    elif A[mid] <= A[high]:\n",
        "      high = mid\n",
        "\n",
        "  return low\n",
        "\n",
        "A= [5,6,7,1,2,3,4]\n",
        "print(find_cylic_small_element(A))"
      ],
      "execution_count": 0,
      "outputs": [
        {
          "output_type": "stream",
          "text": [
            "3\n"
          ],
          "name": "stdout"
        }
      ]
    },
    {
      "cell_type": "markdown",
      "metadata": {
        "id": "4FMdpEUmm0wR",
        "colab_type": "text"
      },
      "source": [
        "# **Recursion**"
      ]
    },
    {
      "cell_type": "markdown",
      "metadata": {
        "id": "8wAAkkUOm4ZW",
        "colab_type": "text"
      },
      "source": [
        "## Find Uppercase Letter in String"
      ]
    },
    {
      "cell_type": "code",
      "metadata": {
        "id": "Z9Uu3KGNir9x",
        "colab_type": "code",
        "colab": {}
      },
      "source": [
        "def find_uppercase_iterative(input_str):\n",
        "  for i in range(len(input_str)):\n",
        "    if input_str[i].isupper():\n",
        "      return input_str[i]\n",
        "  \n",
        "  return \"No uppercase character found\""
      ],
      "execution_count": 0,
      "outputs": []
    },
    {
      "cell_type": "code",
      "metadata": {
        "id": "WzVeOsyaoXms",
        "colab_type": "code",
        "colab": {}
      },
      "source": [
        "def find_uppercase_recursive(input_str, idx=0):\n",
        "  if input_str[idx].isupper():\n",
        "    return input_str[idx]\n",
        "  if idx == len(input_str) - 1:\n",
        "    return \"No uppercase character found\"\n",
        "  \n",
        "  return find_uppercase_recursive(input_str, idx+1)\n"
      ],
      "execution_count": 0,
      "outputs": []
    },
    {
      "cell_type": "code",
      "metadata": {
        "id": "RIEXJXv4ovET",
        "colab_type": "code",
        "outputId": "236316e7-f7f4-4a5d-d65f-dbdb082fcb83",
        "colab": {
          "base_uri": "https://localhost:8080/",
          "height": 121
        }
      },
      "source": [
        "input_str_1 = \"lucidProgramming\"\n",
        "input_str_2 = \"LucidProgramming\"\n",
        "input_str_3 = \"lucidprogramming\"\n",
        "\n",
        "print(find_uppercase_iterative(input_str_1))\n",
        "print(find_uppercase_iterative(input_str_2))\n",
        "print(find_uppercase_iterative(input_str_3))\n",
        "\n",
        "print(find_uppercase_recursive(input_str_1))\n",
        "print(find_uppercase_recursive(input_str_2))\n",
        "print(find_uppercase_recursive(input_str_3))"
      ],
      "execution_count": 0,
      "outputs": [
        {
          "output_type": "stream",
          "text": [
            "P\n",
            "L\n",
            "No uppercase character found\n",
            "P\n",
            "L\n",
            "No uppercase character found\n"
          ],
          "name": "stdout"
        }
      ]
    },
    {
      "cell_type": "markdown",
      "metadata": {
        "id": "or61f-oUpC8f",
        "colab_type": "text"
      },
      "source": [
        "## Calculate String Length"
      ]
    },
    {
      "cell_type": "code",
      "metadata": {
        "id": "n8Qpt8YBoxZp",
        "colab_type": "code",
        "outputId": "1134893e-ff40-450e-a37b-057c7081de95",
        "colab": {
          "base_uri": "https://localhost:8080/",
          "height": 52
        }
      },
      "source": [
        "input_str = \"LucidProgramming\"\n",
        "print(len(input_str))\n",
        "\n",
        "def recursive_str_len(input_str):\n",
        "  if input_str == '':\n",
        "    return 0\n",
        "  return 1 + recursive_str_len(input_str[1:])\n",
        "\n",
        "print(recursive_str_len(\"LucidProgramming\"))\n"
      ],
      "execution_count": 0,
      "outputs": [
        {
          "output_type": "stream",
          "text": [
            "16\n",
            "16\n"
          ],
          "name": "stdout"
        }
      ]
    },
    {
      "cell_type": "markdown",
      "metadata": {
        "id": "2Mml0WILtO5N",
        "colab_type": "text"
      },
      "source": [
        "## Count Consonants in String"
      ]
    },
    {
      "cell_type": "code",
      "metadata": {
        "id": "gvJ9rGl-ru-Q",
        "colab_type": "code",
        "outputId": "a83a87e0-c20d-430b-ad5f-20f4a7b35573",
        "colab": {
          "base_uri": "https://localhost:8080/",
          "height": 52
        }
      },
      "source": [
        "vowels = \"aeiou\"\n",
        "\n",
        "def iterative_count_consonants(input_str):\n",
        "  consonant_count = 0\n",
        "  for i in range(len(input_str)):\n",
        "    if input_str[i].lower() not in vowels and input_str[i].isalpha():\n",
        "      consonant_count += 1\n",
        "  return consonant_count\n",
        "\n",
        "\n",
        "def recursive_count_consonants(input_str):\n",
        "  if input_str == \"\":\n",
        "    return 0\n",
        "\n",
        "  if input_str[0].lower() not in vowels and input_str[0].isalpha():\n",
        "    return 1 +  recursive_count_consonants(input_str[1:])\n",
        "  else:\n",
        "    return recursive_count_consonants(input_str[1:])\n",
        "  \n",
        "\n",
        "input_str = \"LuCiDPrograMMiNG\"\n",
        "print(iterative_count_consonants(input_str))\n",
        "print(recursive_count_consonants(input_str))"
      ],
      "execution_count": 0,
      "outputs": [
        {
          "output_type": "stream",
          "text": [
            "11\n",
            "11\n"
          ],
          "name": "stdout"
        }
      ]
    },
    {
      "cell_type": "markdown",
      "metadata": {
        "id": "bJEl7nYIwuG9",
        "colab_type": "text"
      },
      "source": [
        "## Recursive Multiplication"
      ]
    },
    {
      "cell_type": "code",
      "metadata": {
        "id": "K1iztiRlt1YI",
        "colab_type": "code",
        "outputId": "a3054625-1aab-4397-ad36-613dc709ea09",
        "colab": {
          "base_uri": "https://localhost:8080/",
          "height": 52
        }
      },
      "source": [
        "def recursive_multiply(x, y):\n",
        "  if x < y:\n",
        "    return recursive_multiply(y, x)\n",
        "  if y == 0:\n",
        "    return 0\n",
        "  \n",
        "  return x + recursive_multiply(x, y-1)\n",
        "\n",
        "x = 500\n",
        "y = 2000\n",
        "\n",
        "print(x * y)\n",
        "print(recursive_multiply(x, y))\n",
        "  "
      ],
      "execution_count": 0,
      "outputs": [
        {
          "output_type": "stream",
          "text": [
            "1000000\n",
            "1000000\n"
          ],
          "name": "stdout"
        }
      ]
    },
    {
      "cell_type": "markdown",
      "metadata": {
        "id": "eStUlL7jw2mC",
        "colab_type": "text"
      },
      "source": [
        "# **Strings**"
      ]
    },
    {
      "cell_type": "markdown",
      "metadata": {
        "id": "WjcK6jZX-gfj",
        "colab_type": "text"
      },
      "source": [
        "## Look-and-Say Sequence"
      ]
    },
    {
      "cell_type": "code",
      "metadata": {
        "id": "RdBMGfFzwJ6C",
        "colab_type": "code",
        "outputId": "12071568-0d35-403b-8577-294a2f39e3d9",
        "colab": {
          "base_uri": "https://localhost:8080/",
          "height": 87
        }
      },
      "source": [
        "def next_number(s):\n",
        "  result = []\n",
        "  i = 0\n",
        "  count = 0\n",
        "  while i < len(s):\n",
        "    count = 1\n",
        "    while i+1 < len(s) and s[i] == s[i+1]:\n",
        "      i+= 1\n",
        "      count +=1\n",
        "    result.append(str(count) + s[i])\n",
        "    i += 1\n",
        "  return ''. join(result)\n",
        "\n",
        "\n",
        "s = \"2112\"\n",
        "print(s)\n",
        "n = 4\n",
        "for i in range(n-1):\n",
        "  s =  next_number(s)\n",
        "  print(s)\n"
      ],
      "execution_count": 0,
      "outputs": [
        {
          "output_type": "stream",
          "text": [
            "2112\n",
            "122112\n",
            "11222112\n",
            "21322112\n"
          ],
          "name": "stdout"
        }
      ]
    },
    {
      "cell_type": "markdown",
      "metadata": {
        "id": "MBHW8p9Xw1v9",
        "colab_type": "text"
      },
      "source": [
        "## Spreadsheet Encoding"
      ]
    },
    {
      "cell_type": "code",
      "metadata": {
        "id": "7XLQkMpjF6_K",
        "colab_type": "code",
        "outputId": "3e2839e6-a920-4e96-a6a6-68ded69c3488",
        "colab": {
          "base_uri": "https://localhost:8080/",
          "height": 68
        }
      },
      "source": [
        "print(ord('A'))\n",
        "print(ord('C'))\n",
        "print(ord('Z'))"
      ],
      "execution_count": 0,
      "outputs": [
        {
          "output_type": "stream",
          "text": [
            "65\n",
            "67\n",
            "90\n"
          ],
          "name": "stdout"
        }
      ]
    },
    {
      "cell_type": "code",
      "metadata": {
        "id": "WkDp95J-GYso",
        "colab_type": "code",
        "outputId": "a8b1ccf7-3357-4b7e-d4b3-ac3f5f9644fe",
        "colab": {
          "base_uri": "https://localhost:8080/",
          "height": 85
        }
      },
      "source": [
        "print(ord('A')- ord('A')+ 1)\n",
        "print(ord('B')- ord('A')+ 1)\n",
        "print(ord('C')- ord('A')+ 1)\n",
        "print(ord('Z')- ord('A')+ 1)"
      ],
      "execution_count": 0,
      "outputs": [
        {
          "output_type": "stream",
          "text": [
            "1\n",
            "2\n",
            "3\n",
            "26\n"
          ],
          "name": "stdout"
        }
      ]
    },
    {
      "cell_type": "code",
      "metadata": {
        "id": "GRlxPXwuGsol",
        "colab_type": "code",
        "outputId": "ea5ff110-3bb3-4418-aadd-0b3ffc6d8291",
        "colab": {
          "base_uri": "https://localhost:8080/",
          "height": 34
        }
      },
      "source": [
        "print(26**1 * (ord('Z') - ord('A') + 1))"
      ],
      "execution_count": 0,
      "outputs": [
        {
          "output_type": "stream",
          "text": [
            "676\n"
          ],
          "name": "stdout"
        }
      ]
    },
    {
      "cell_type": "code",
      "metadata": {
        "id": "C9qlwb8PHfn2",
        "colab_type": "code",
        "outputId": "7cac2d39-d135-46b2-877a-93bc532f32ed",
        "colab": {
          "base_uri": "https://localhost:8080/",
          "height": 34
        }
      },
      "source": [
        "def spreadsheet_encode_column(col_str):\n",
        "  count = len(col_str)-1\n",
        "  num = 0\n",
        "  for s in col_str:\n",
        "    num+= 26 ** count * (ord(s)-ord('A')+1)\n",
        "    count -=1\n",
        "  return num\n",
        "\n",
        "\n",
        "print(spreadsheet_encode_column('AZ'))"
      ],
      "execution_count": 0,
      "outputs": [
        {
          "output_type": "stream",
          "text": [
            "52\n"
          ],
          "name": "stdout"
        }
      ]
    },
    {
      "cell_type": "markdown",
      "metadata": {
        "id": "yvm-C2SeKW0w",
        "colab_type": "text"
      },
      "source": [
        "## Palindrome"
      ]
    },
    {
      "cell_type": "code",
      "metadata": {
        "id": "tNwQG8NXJY4Z",
        "colab_type": "code",
        "outputId": "7d9d65fe-a5e7-4371-e839-7100b137ba17",
        "colab": {
          "base_uri": "https://localhost:8080/",
          "height": 51
        }
      },
      "source": [
        "s = \"Was it a cat I saw?\"\n",
        "\n",
        "s = ''.join([i for i in s if i.isalnum()]).replace(\" \",\"\").lower()\n",
        "print(s)\n",
        "print(s==s[::-1])"
      ],
      "execution_count": 0,
      "outputs": [
        {
          "output_type": "stream",
          "text": [
            "wasitacatisaw\n",
            "True\n"
          ],
          "name": "stdout"
        }
      ]
    },
    {
      "cell_type": "code",
      "metadata": {
        "id": "WYkoykQhLzQ3",
        "colab_type": "code",
        "outputId": "42f52fc3-a224-44c1-a247-2ef7f70fa32c",
        "colab": {
          "base_uri": "https://localhost:8080/",
          "height": 51
        }
      },
      "source": [
        "def is_palindrome(s):\n",
        "  i = 0\n",
        "  j = len(s) - 1\n",
        "  while i < j:\n",
        "    while not s[i].isalnum() and i < j:\n",
        "      i += 1\n",
        "    while not s[j].isalnum() and i < j:\n",
        "      j -= 1\n",
        "    \n",
        "    if s[i].lower() != s[j].lower():\n",
        "      return False\n",
        "\n",
        "    i += 1\n",
        "    j -= 1\n",
        "\n",
        "  return True\n",
        "\n",
        "\n",
        "\n",
        "s = \"Was it a cat I saw?\"\n",
        "print(is_palindrome(s))\n",
        "\n",
        "s = \"RACE CAR!!!!!!\"\n",
        "print(is_palindrome(s))"
      ],
      "execution_count": 0,
      "outputs": [
        {
          "output_type": "stream",
          "text": [
            "True\n",
            "True\n"
          ],
          "name": "stdout"
        }
      ]
    },
    {
      "cell_type": "markdown",
      "metadata": {
        "id": "fFF9qrXxO7OI",
        "colab_type": "text"
      },
      "source": [
        "## Is Anagram"
      ]
    },
    {
      "cell_type": "code",
      "metadata": {
        "id": "2JgKtmNbOfIP",
        "colab_type": "code",
        "outputId": "cf8eda8a-1561-4048-e4ca-62236ca82238",
        "colab": {
          "base_uri": "https://localhost:8080/",
          "height": 34
        }
      },
      "source": [
        "s1 = \"fairy tales\"\n",
        "s2 = \"rail safety\"\n",
        "\n",
        "s1 = s1.replace(\" \",\"\").lower()\n",
        "s2 = s2.replace(\" \",\"\").lower()\n",
        "\n",
        "print(sorted(s1)==sorted(s2))"
      ],
      "execution_count": 0,
      "outputs": [
        {
          "output_type": "stream",
          "text": [
            "True\n"
          ],
          "name": "stdout"
        }
      ]
    },
    {
      "cell_type": "code",
      "metadata": {
        "id": "tE8pkyBtPe32",
        "colab_type": "code",
        "outputId": "adce5e2b-c715-42b4-e715-71fa3cd0c11a",
        "colab": {
          "base_uri": "https://localhost:8080/",
          "height": 34
        }
      },
      "source": [
        "#linear time complexity O(nlogn)\n",
        "\n",
        "def is_anagram(s1, s2):\n",
        "  ht = dict()\n",
        "  if len(s1) != len(s2):\n",
        "    return False\n",
        "\n",
        "  for i in s1:\n",
        "    if i in ht:\n",
        "      ht[i] += 1\n",
        "    else:\n",
        "      ht[i] = 1\n",
        "  \n",
        "  for i in s2:\n",
        "    if i in ht:\n",
        "      ht[i] -= 1\n",
        "    else:\n",
        "      ht[i] = 1\n",
        "\n",
        "  for i in ht:\n",
        "    if ht[i] !=0:\n",
        "      return False\n",
        "    \n",
        "  return True\n",
        "\n",
        "\n",
        "s1 = \"fairy tales\"\n",
        "s2 = \"rail safety\"\n",
        "## normalizing the strings\n",
        "s1 = s1.replace(\" \", \"\").lower()\n",
        "s2 = s2.replace(\" \", \"\").lower()\n",
        "\n",
        "print(is_anagram(s1, s2))\n",
        "    "
      ],
      "execution_count": 0,
      "outputs": [
        {
          "output_type": "stream",
          "text": [
            "True\n"
          ],
          "name": "stdout"
        }
      ]
    },
    {
      "cell_type": "markdown",
      "metadata": {
        "id": "u15j1J1JRzre",
        "colab_type": "text"
      },
      "source": [
        "## Is Palindrome Permutation"
      ]
    },
    {
      "cell_type": "code",
      "metadata": {
        "id": "MfNnD9O6RScL",
        "colab_type": "code",
        "colab": {
          "base_uri": "https://localhost:8080/",
          "height": 52
        },
        "outputId": "b4748497-ab19-44a3-c838-913a55d55a15"
      },
      "source": [
        "def is_palin_perm (input_str):\n",
        "  input_str = input_str.replace(\" \",\"\")\n",
        "  input_str = input_str.lower()\n",
        "\n",
        "  d = dict()\n",
        "  for i in input_str:\n",
        "    if i in d:\n",
        "      d[i] += 1\n",
        "    else:\n",
        "      d[i] = 1\n",
        "  \n",
        "  odd_count = 0\n",
        "  for k,v in d.items():\n",
        "    if v%2 != 0 and odd_count ==0:\n",
        "      odd_count += 1\n",
        "    elif v%2 != 0 and odd_count != 0:\n",
        "      return False\n",
        "\n",
        "  return True\n",
        "\n",
        "\n",
        "\n",
        "print(is_palin_perm('rraacce'))\n",
        "print(is_palin_perm(\"Tact Coa\"))\n"
      ],
      "execution_count": 5,
      "outputs": [
        {
          "output_type": "stream",
          "text": [
            "True\n",
            "True\n"
          ],
          "name": "stdout"
        }
      ]
    },
    {
      "cell_type": "markdown",
      "metadata": {
        "id": "90PDW4QnNbES",
        "colab_type": "text"
      },
      "source": [
        "## Check Permutation"
      ]
    },
    {
      "cell_type": "code",
      "metadata": {
        "id": "OikleG7yM0O_",
        "colab_type": "code",
        "colab": {}
      },
      "source": [
        "# Approach 1: Sorting\n",
        "# Time Complexity: O(n log n)\n",
        "# Space Complexity: O(1)\n",
        "def is_perm_1 (str1, str2):\n",
        "  str1 = str1.lower()\n",
        "  str2 = str2.lower()\n",
        "\n",
        "  if len(str1) != len (str2):\n",
        "    return False\n",
        "\n",
        "  return sorted(str1) == sorted(str2)\n",
        "\n"
      ],
      "execution_count": 0,
      "outputs": []
    },
    {
      "cell_type": "code",
      "metadata": {
        "id": "mM3aHQNsaqC-",
        "colab_type": "code",
        "colab": {}
      },
      "source": [
        "# Approach 2: Hash Table\n",
        "# Time Complexity: O(n)\n",
        "# Space Complexity: O(n)\n",
        "def is_perm_2 (str1, str2):\n",
        "  str1 = str1.lower()\n",
        "  str2 = str2.lower()\n",
        "\n",
        "  h = dict()\n",
        "  for i in str1:\n",
        "    if i in h:\n",
        "      h[i] += 1\n",
        "    else:\n",
        "      h[i] = 1\n",
        "\n",
        "  for i in str2:\n",
        "    if i in h:\n",
        "      h[i] -= 1\n",
        "    else:\n",
        "      h[i] = 1\n",
        "  \n",
        "  return all(value==0 for value in h.values())\n"
      ],
      "execution_count": 0,
      "outputs": []
    },
    {
      "cell_type": "code",
      "metadata": {
        "id": "pe5qIGICaYG2",
        "colab_type": "code",
        "colab": {
          "base_uri": "https://localhost:8080/",
          "height": 106
        },
        "outputId": "a166172d-5733-4e85-dc1a-dc423baef57a"
      },
      "source": [
        "is_permutation_1 = \"google\"\n",
        "is_permutation_2 = \"ooggle\"\n",
        "\n",
        "not_permutation_1 = \"not\"\n",
        "not_permutation_2 = \"top\"\n",
        "print(is_perm_1(is_permutation_1, is_permutation_2))\n",
        "print(is_perm_1(not_permutation_1, not_permutation_2))\n",
        "print()\n",
        "\n",
        "print(is_perm_2(is_permutation_1, is_permutation_2))\n",
        "print(is_perm_2(not_permutation_1, not_permutation_2))"
      ],
      "execution_count": 15,
      "outputs": [
        {
          "output_type": "stream",
          "text": [
            "True\n",
            "False\n",
            "\n",
            "True\n",
            "False\n"
          ],
          "name": "stdout"
        }
      ]
    },
    {
      "cell_type": "markdown",
      "metadata": {
        "id": "v3sICwC3b5gO",
        "colab_type": "text"
      },
      "source": [
        "## Is Unique"
      ]
    },
    {
      "cell_type": "code",
      "metadata": {
        "id": "srQ6iRS-abss",
        "colab_type": "code",
        "colab": {}
      },
      "source": [
        "def is_unique(input_str):\n",
        "  input_str = input_str.replace(\" \", \"\")\n",
        "  input_str = input_str.lower()\n",
        "  h = dict()\n",
        "  for i in input_str:\n",
        "    if i in h:\n",
        "      return False\n",
        "    else:\n",
        "      h[i] = 1\n",
        "  return True\n",
        "\n",
        "def is_unique2(input_str):\n",
        "    return len(set(input_str)) == len(input_str)"
      ],
      "execution_count": 0,
      "outputs": []
    },
    {
      "cell_type": "code",
      "metadata": {
        "id": "BXgpFwr6cYkv",
        "colab_type": "code",
        "colab": {
          "base_uri": "https://localhost:8080/",
          "height": 106
        },
        "outputId": "3ac6359b-f554-4b64-f01a-772915b72617"
      },
      "source": [
        "print(is_unique('abCedFghI'))\n",
        "print(is_unique('heythere'))\n",
        "print()\n",
        "print(is_unique2('abCedFghI'))\n",
        "print(is_unique2('heythere'))"
      ],
      "execution_count": 20,
      "outputs": [
        {
          "output_type": "stream",
          "text": [
            "True\n",
            "False\n",
            "\n",
            "True\n",
            "False\n"
          ],
          "name": "stdout"
        }
      ]
    },
    {
      "cell_type": "markdown",
      "metadata": {
        "id": "oG3RDFuweBWc",
        "colab_type": "text"
      },
      "source": [
        "## Integer to String"
      ]
    },
    {
      "cell_type": "code",
      "metadata": {
        "id": "Cv3N58JGckPb",
        "colab_type": "code",
        "colab": {
          "base_uri": "https://localhost:8080/",
          "height": 141
        },
        "outputId": "c0c100fe-4ad2-46b7-8715-575d75d653b2"
      },
      "source": [
        "## Prints 48 which is the Unicode code point of the character '0'\n",
        "print(ord('0'), 'type',print(type(ord('0'))))\n",
        "## Prints the character '0' as 48 is Unicode code point of the character '0'\n",
        "print(chr(ord('0')),type(chr(ord('0'))))\n",
        "## Prints 49 \n",
        "print(ord('0')+ 1)\n",
        "## Prints 49 which is Unicode code point of the character '1'\n",
        "print(ord('1'))\n",
        "## Prints the character '2' as 50 is Unicode code point of the character '2'\n",
        "## ord('0') + 2  = 48 + 2 = 50\n",
        "print(chr(ord('0')+ 2))\n",
        "## Prints the character '3' as 51 is Unicode code point of the character '3'\n",
        "## ord('0') + 3  = 48 + 2 = 51\n",
        "print(chr(ord('0')+ 3))"
      ],
      "execution_count": 26,
      "outputs": [
        {
          "output_type": "stream",
          "text": [
            "<class 'int'>\n",
            "48 type None\n",
            "0 <class 'str'>\n",
            "49\n",
            "49\n",
            "2\n",
            "3\n"
          ],
          "name": "stdout"
        }
      ]
    },
    {
      "cell_type": "code",
      "metadata": {
        "id": "mXYIXeUUeJhI",
        "colab_type": "code",
        "colab": {
          "base_uri": "https://localhost:8080/",
          "height": 88
        },
        "outputId": "ce379e6f-b4da-4286-e9bf-1c0ebef20fe8"
      },
      "source": [
        "def int_to_str(input_int):\n",
        "    \n",
        "    if input_int < 0:\n",
        "        is_negative = True\n",
        "        input_int *= -1\n",
        "    else:\n",
        "        is_negative = False\n",
        "\n",
        "    output_str = []\n",
        "    while input_int > 0:\n",
        "        output_str.append(chr(ord('0') + input_int % 10))\n",
        "        input_int //= 10\n",
        "    output_str = output_str[::-1]\n",
        "\n",
        "    output_str = ''.join(output_str)\n",
        "\n",
        "    if is_negative:\n",
        "        return '-' + output_str\n",
        "    else:\n",
        "        return output_str\n",
        "\n",
        "\n",
        "input_int = 123\n",
        "print(input_int)\n",
        "print(type(input_int))\n",
        "\n",
        "output_str = int_to_str(input_int)\n",
        "print(output_str)\n",
        "print(type(output_str))"
      ],
      "execution_count": 27,
      "outputs": [
        {
          "output_type": "stream",
          "text": [
            "123\n",
            "<class 'int'>\n",
            "123\n",
            "<class 'str'>\n"
          ],
          "name": "stdout"
        }
      ]
    },
    {
      "cell_type": "markdown",
      "metadata": {
        "id": "DuSMKHrxfSmC",
        "colab_type": "text"
      },
      "source": [
        "## String to Integer"
      ]
    },
    {
      "cell_type": "code",
      "metadata": {
        "id": "dIuquSP9fF_X",
        "colab_type": "code",
        "colab": {
          "base_uri": "https://localhost:8080/",
          "height": 35
        },
        "outputId": "deab7633-8e81-45e5-a10c-e8fec6133336"
      },
      "source": [
        "ord('123'[1])"
      ],
      "execution_count": 31,
      "outputs": [
        {
          "output_type": "execute_result",
          "data": {
            "text/plain": [
              "50"
            ]
          },
          "metadata": {
            "tags": []
          },
          "execution_count": 31
        }
      ]
    },
    {
      "cell_type": "code",
      "metadata": {
        "id": "nJKwPKwZfXeR",
        "colab_type": "code",
        "colab": {
          "base_uri": "https://localhost:8080/",
          "height": 35
        },
        "outputId": "3e4ba384-0a92-49c5-e261-dec157d183ef"
      },
      "source": [
        "ord('0')"
      ],
      "execution_count": 33,
      "outputs": [
        {
          "output_type": "execute_result",
          "data": {
            "text/plain": [
              "48"
            ]
          },
          "metadata": {
            "tags": []
          },
          "execution_count": 33
        }
      ]
    },
    {
      "cell_type": "code",
      "metadata": {
        "id": "HOkmKxj5gVKW",
        "colab_type": "code",
        "colab": {}
      },
      "source": [
        "def str_to_int(input_str):\n",
        "\n",
        "  output_int = 0\n",
        "\n",
        "  if input_str[0] == '-':\n",
        "    is_negative = True\n",
        "    start_idx = 1\n",
        "  else:\n",
        "    is_negative = False\n",
        "    start_idx = 0\n",
        "\n",
        "  for i in range(start_idx, len(input_str)):\n",
        "    place = 10 ** (len(input_str) - (i+1))\n",
        "    digit = ord(input_str[i]) - ord('0')\n",
        "    output_int += place * digit\n",
        "\n",
        "  if is_negative:\n",
        "    return -1*output_int\n",
        "  else:\n",
        "    return output_int"
      ],
      "execution_count": 0,
      "outputs": []
    },
    {
      "cell_type": "code",
      "metadata": {
        "id": "YSKThL06hF7k",
        "colab_type": "code",
        "colab": {
          "base_uri": "https://localhost:8080/",
          "height": 70
        },
        "outputId": "8f066dde-4a57-4a19-ab15-175ff0907d99"
      },
      "source": [
        "\n",
        "s = \"554\"\n",
        "x = str_to_int(s)\n",
        "print(type(x))\n",
        "\n",
        "s = \"123\"\n",
        "print(str_to_int(s))\n",
        "\n",
        "s = \"-123\"\n",
        "print(str_to_int(s))"
      ],
      "execution_count": 35,
      "outputs": [
        {
          "output_type": "stream",
          "text": [
            "<class 'int'>\n",
            "123\n",
            "-123\n"
          ],
          "name": "stdout"
        }
      ]
    }
  ]
}